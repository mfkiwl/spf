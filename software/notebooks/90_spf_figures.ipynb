{
  "nbformat": 4,
  "nbformat_minor": 0,
  "metadata": {
    "colab": {
      "provenance": [],
      "authorship_tag": "ABX9TyM3dww2k+Oqnrj68zht7udc",
      "include_colab_link": true
    },
    "kernelspec": {
      "name": "python3",
      "display_name": "Python 3"
    },
    "language_info": {
      "name": "python"
    }
  },
  "cells": [
    {
      "cell_type": "markdown",
      "metadata": {
        "id": "view-in-github",
        "colab_type": "text"
      },
      "source": [
        "<a href=\"https://colab.research.google.com/github/misko/spf/blob/main/90_spf_figures.ipynb\" target=\"_parent\"><img src=\"https://colab.research.google.com/assets/colab-badge.svg\" alt=\"Open In Colab\"/></a>"
      ]
    },
    {
      "cell_type": "code",
      "source": [
        "from google.colab import auth\n",
        "auth.authenticate_user()\n",
        "\n",
        "# https://cloud.google.com/resource-manager/docs/creating-managing-projects\n",
        "project_id = 'prawnukkah'\n",
        "!gcloud config set project {project_id}"
      ],
      "metadata": {
        "colab": {
          "base_uri": "https://localhost:8080/"
        },
        "id": "O1yXTRkdGLs8",
        "outputId": "e7ae9e01-bfe8-4f82-b2ea-12ee5c1247ea"
      },
      "execution_count": 2,
      "outputs": [
        {
          "output_type": "stream",
          "name": "stdout",
          "text": [
            "Updated property [core/project].\n"
          ]
        }
      ]
    },
    {
      "cell_type": "code",
      "source": [
        "! git clone https://github.com/misko/spf.git"
      ],
      "metadata": {
        "colab": {
          "base_uri": "https://localhost:8080/"
        },
        "id": "00SiWVpjLB8s",
        "outputId": "51003a57-43d9-4648-be22-973cdf4c6eae"
      },
      "execution_count": 3,
      "outputs": [
        {
          "output_type": "stream",
          "name": "stdout",
          "text": [
            "Cloning into 'spf'...\n",
            "remote: Enumerating objects: 208, done.\u001b[K\n",
            "remote: Counting objects: 100% (208/208), done.\u001b[K\n",
            "remote: Compressing objects: 100% (148/148), done.\u001b[K\n",
            "remote: Total 208 (delta 113), reused 127 (delta 56), pack-reused 0\u001b[K\n",
            "Receiving objects: 100% (208/208), 13.95 MiB | 11.04 MiB/s, done.\n",
            "Resolving deltas: 100% (113/113), done.\n"
          ]
        }
      ]
    },
    {
      "cell_type": "code",
      "source": [
        "from smart_open import open\n",
        "import pickle\n",
        "session=pickle.load(\n",
        "    open('gs://spf-data/sessions_sigma0.0_sources3_n8192_timesteps256_timeinterval0.3_dtbounce/session_00000001.pkl','rb'))\n",
        "from spf.nn.rf_torch import labels_to_source_images,detector_positions_to_theta_grid,radio_to_image\n",
        "#generate the images for the session\n",
        "d={}\n",
        "d['source_image_at_t']=labels_to_source_images(torch.from_numpy(session['source_positions_at_t'])[None],width)[0]\n",
        "d['detector_theta_image_at_t']=detector_positions_to_theta_grid(session['detector_position_at_t'][None],width)[0]\n",
        "d['radio_image_at_t']=radio_to_image(session['beam_former_outputs_at_t'][None],d['detector_theta_image_at_t'][None])[0]\n",
        "d['radio_image_at_t_normed']=d['radio_image_at_t']/d['radio_image_at_t'].sum(axis=2,keepdims=True).sum(axis=3,keepdims=True)"
      ],
      "metadata": {
        "colab": {
          "base_uri": "https://localhost:8080/",
          "height": 258
        },
        "id": "VLinobupGSVk",
        "outputId": "2cff8630-bdb7-4689-8c11-235d3400b408"
      },
      "execution_count": 4,
      "outputs": [
        {
          "output_type": "error",
          "ename": "NameError",
          "evalue": "ignored",
          "traceback": [
            "\u001b[0;31m---------------------------------------------------------------------------\u001b[0m",
            "\u001b[0;31mNameError\u001b[0m                                 Traceback (most recent call last)",
            "\u001b[0;32m<ipython-input-4-00190dd26967>\u001b[0m in \u001b[0;36m<cell line: 8>\u001b[0;34m()\u001b[0m\n\u001b[1;32m      6\u001b[0m \u001b[0;31m#generate the images for the session\u001b[0m\u001b[0;34m\u001b[0m\u001b[0;34m\u001b[0m\u001b[0m\n\u001b[1;32m      7\u001b[0m \u001b[0md\u001b[0m\u001b[0;34m=\u001b[0m\u001b[0;34m{\u001b[0m\u001b[0;34m}\u001b[0m\u001b[0;34m\u001b[0m\u001b[0;34m\u001b[0m\u001b[0m\n\u001b[0;32m----> 8\u001b[0;31m \u001b[0md\u001b[0m\u001b[0;34m[\u001b[0m\u001b[0;34m'source_image_at_t'\u001b[0m\u001b[0;34m]\u001b[0m\u001b[0;34m=\u001b[0m\u001b[0mlabels_to_source_images\u001b[0m\u001b[0;34m(\u001b[0m\u001b[0mtorch\u001b[0m\u001b[0;34m.\u001b[0m\u001b[0mfrom_numpy\u001b[0m\u001b[0;34m(\u001b[0m\u001b[0msession\u001b[0m\u001b[0;34m[\u001b[0m\u001b[0;34m'source_positions_at_t'\u001b[0m\u001b[0;34m]\u001b[0m\u001b[0;34m)\u001b[0m\u001b[0;34m[\u001b[0m\u001b[0;32mNone\u001b[0m\u001b[0;34m]\u001b[0m\u001b[0;34m,\u001b[0m\u001b[0mwidth\u001b[0m\u001b[0;34m)\u001b[0m\u001b[0;34m[\u001b[0m\u001b[0;36m0\u001b[0m\u001b[0;34m]\u001b[0m\u001b[0;34m\u001b[0m\u001b[0;34m\u001b[0m\u001b[0m\n\u001b[0m\u001b[1;32m      9\u001b[0m \u001b[0md\u001b[0m\u001b[0;34m[\u001b[0m\u001b[0;34m'detector_theta_image_at_t'\u001b[0m\u001b[0;34m]\u001b[0m\u001b[0;34m=\u001b[0m\u001b[0mdetector_positions_to_theta_grid\u001b[0m\u001b[0;34m(\u001b[0m\u001b[0msession\u001b[0m\u001b[0;34m[\u001b[0m\u001b[0;34m'detector_position_at_t'\u001b[0m\u001b[0;34m]\u001b[0m\u001b[0;34m[\u001b[0m\u001b[0;32mNone\u001b[0m\u001b[0;34m]\u001b[0m\u001b[0;34m,\u001b[0m\u001b[0mwidth\u001b[0m\u001b[0;34m)\u001b[0m\u001b[0;34m[\u001b[0m\u001b[0;36m0\u001b[0m\u001b[0;34m]\u001b[0m\u001b[0;34m\u001b[0m\u001b[0;34m\u001b[0m\u001b[0m\n\u001b[1;32m     10\u001b[0m \u001b[0md\u001b[0m\u001b[0;34m[\u001b[0m\u001b[0;34m'radio_image_at_t'\u001b[0m\u001b[0;34m]\u001b[0m\u001b[0;34m=\u001b[0m\u001b[0mradio_to_image\u001b[0m\u001b[0;34m(\u001b[0m\u001b[0msession\u001b[0m\u001b[0;34m[\u001b[0m\u001b[0;34m'beam_former_outputs_at_t'\u001b[0m\u001b[0;34m]\u001b[0m\u001b[0;34m[\u001b[0m\u001b[0;32mNone\u001b[0m\u001b[0;34m]\u001b[0m\u001b[0;34m,\u001b[0m\u001b[0md\u001b[0m\u001b[0;34m[\u001b[0m\u001b[0;34m'detector_theta_image_at_t'\u001b[0m\u001b[0;34m]\u001b[0m\u001b[0;34m[\u001b[0m\u001b[0;32mNone\u001b[0m\u001b[0;34m]\u001b[0m\u001b[0;34m)\u001b[0m\u001b[0;34m[\u001b[0m\u001b[0;36m0\u001b[0m\u001b[0;34m]\u001b[0m\u001b[0;34m\u001b[0m\u001b[0;34m\u001b[0m\u001b[0m\n",
            "\u001b[0;31mNameError\u001b[0m: name 'torch' is not defined"
          ]
        }
      ]
    },
    {
      "cell_type": "code",
      "source": [
        "session['width_at_t'].shape"
      ],
      "metadata": {
        "colab": {
          "base_uri": "https://localhost:8080/",
          "height": 169
        },
        "id": "DyjupMR7Bv8K",
        "outputId": "e5cb5270-43c8-4b69-c873-2c0a566f25f2"
      },
      "execution_count": 1,
      "outputs": [
        {
          "output_type": "error",
          "ename": "NameError",
          "evalue": "ignored",
          "traceback": [
            "\u001b[0;31m---------------------------------------------------------------------------\u001b[0m",
            "\u001b[0;31mNameError\u001b[0m                                 Traceback (most recent call last)",
            "\u001b[0;32m<ipython-input-1-e633e884cdd3>\u001b[0m in \u001b[0;36m<cell line: 1>\u001b[0;34m()\u001b[0m\n\u001b[0;32m----> 1\u001b[0;31m \u001b[0msession\u001b[0m\u001b[0;34m[\u001b[0m\u001b[0;34m'width_at_t'\u001b[0m\u001b[0;34m]\u001b[0m\u001b[0;34m.\u001b[0m\u001b[0mshape\u001b[0m\u001b[0;34m\u001b[0m\u001b[0;34m\u001b[0m\u001b[0m\n\u001b[0m",
            "\u001b[0;31mNameError\u001b[0m: name 'session' is not defined"
          ]
        }
      ]
    },
    {
      "cell_type": "code",
      "source": [
        "\n",
        "import matplotlib.pyplot as plt \n",
        "\n",
        "\n",
        "def plot_trajectory(ax,\n",
        "                    positions,\n",
        "                    width,\n",
        "                    ms=30,\n",
        "                    steps_per_fade=10,\n",
        "                    fadep=0.8,\n",
        "                    c='b',\n",
        "                    rings=False,\n",
        "                    label=None):\n",
        "  ax.set_xlim([0,width])\n",
        "  ax.set_ylim([0,width])\n",
        "  n_steps=positions.shape[0]//steps_per_fade\n",
        "  if positions.shape[0]%steps_per_fade!=0:\n",
        "    n_steps+=1\n",
        "  alpha=1.0\n",
        "  for n in np.arange(n_steps):\n",
        "    start=positions.shape[0]-(n+1)*steps_per_fade\n",
        "    end=start+steps_per_fade\n",
        "    start=max(0,start)\n",
        "    ax.plot( positions[start:end,0], positions[start:end,1],'--',alpha=alpha,color=c,label=label)\n",
        "    alpha*=fadep\n",
        "  \n",
        "  ax.plot( positions[-1,0], positions[-1,1],'.',ms=ms,c=c)\n",
        "  if rings:\n",
        "    n=4\n",
        "    for x in range(n):\n",
        "      ax.plot( positions[-1,0], positions[-1,1],'.',ms=ms*(1.8**x),c=c,alpha=1/n)\n"
      ],
      "metadata": {
        "id": "EHNwvbrbnLLT"
      },
      "execution_count": 635,
      "outputs": []
    },
    {
      "cell_type": "code",
      "source": [],
      "metadata": {
        "id": "-GVheKrBKlJk"
      },
      "execution_count": 635,
      "outputs": []
    },
    {
      "cell_type": "code",
      "source": [
        "!rm 01_basic*.png\n",
        "\n",
        "width=session['width_at_t'][0][0]\n",
        "\n",
        "filenames=[]\n",
        "plt.ioff()\n",
        "step_size=4\n",
        "for idx in np.arange(1,256,step_size):\n",
        "  fig=plt.figure(figsize=(12,12))\n",
        "  axs=fig.subplots(2,2)\n",
        "  for _a in [0,1]:\n",
        "    for _b in [0,1]:\n",
        "      if _a==0 and _b==1: \n",
        "        continue\n",
        "      axs[_a,_b].set_xlabel(\"X (m)\")\n",
        "      axs[_a,_b].set_ylabel(\"Y (m)\")\n",
        "\n",
        "  axs[0,0].set_title(\"Position map\")\n",
        "  plot_trajectory(axs[0,0],session['detector_position_at_t'][:idx],width,ms=30,label='detector')\n",
        "  for n in np.arange(session['source_positions_at_t'].shape[1]):\n",
        "    rings=(session['broadcasting_positions_at_t'][idx,n,0]==1)\n",
        "    plot_trajectory(axs[0,0],session['source_positions_at_t'][:idx,n],width,ms=15,c='r',rings=rings,label='emitter %d' % n)\n",
        "  #axs[0,0].legend()\n",
        "  handles, labels = axs[0,0].get_legend_handles_labels()\n",
        "  by_label = dict(zip(labels, handles))\n",
        "  axs[0,0].legend(by_label.values(), by_label.keys())\n",
        "  #lets draw the radio\n",
        "  axs[1,0].imshow(d['source_image_at_t'][idx,0].T,origin='lower')\n",
        "  axs[1,0].set_title(\"Emitters as image at t=%d\" % idx)\n",
        "\n",
        "  axs[1,1].imshow(d['radio_image_at_t'][idx,0].T,origin='lower')\n",
        "  axs[1,1].set_title(\"Radio feature at t=%d\" % idx)\n",
        "\n",
        "  axs[0,1].plot(session['thetas_at_t'][idx],session['beam_former_outputs_at_t'][idx])\n",
        "  axs[0,1].set_title(\"Beamformer output at t=%d\" % idx)\n",
        "  fn='01_basic_frame_%04d.png' % idx\n",
        "  filenames.append(fn)\n",
        "  fig.savefig(fn)\n",
        "  plt.close(fig)\n",
        "plt.ion()"
      ],
      "metadata": {
        "colab": {
          "base_uri": "https://localhost:8080/"
        },
        "id": "ZmblUgf4Jo0I",
        "outputId": "30085024-72f4-4cec-eb4e-775c282671b1"
      },
      "execution_count": 636,
      "outputs": [
        {
          "output_type": "execute_result",
          "data": {
            "text/plain": [
              "<contextlib.ExitStack at 0x7ff826ed0880>"
            ]
          },
          "metadata": {},
          "execution_count": 636
        }
      ]
    },
    {
      "cell_type": "code",
      "source": [
        "\n",
        "# importing libraries\n",
        "import os\n",
        "import cv2 \n",
        "from PIL import Image\n",
        "\n",
        "images=[]\n",
        "for fn in filenames:\n",
        "  images.append(Image.open(fn))\n",
        "\n",
        "images[0].save('01_basic.gif',\n",
        "               save_all = True, append_images = images[1:], \n",
        "               optimize = False, duration = 10)"
      ],
      "metadata": {
        "id": "nhqIrhcDUQQs"
      },
      "execution_count": 637,
      "outputs": []
    },
    {
      "cell_type": "code",
      "source": [
        "!sudo apt-get install imagemagick"
      ],
      "metadata": {
        "colab": {
          "base_uri": "https://localhost:8080/"
        },
        "id": "2o18iDuSU_2Q",
        "outputId": "958fda05-3a7b-4b9b-f17a-1dcdd977a672"
      },
      "execution_count": 638,
      "outputs": [
        {
          "output_type": "stream",
          "name": "stdout",
          "text": [
            "Reading package lists... Done\n",
            "Building dependency tree       \n",
            "Reading state information... Done\n",
            "imagemagick is already the newest version (8:6.9.10.23+dfsg-2.1ubuntu11.7).\n",
            "0 upgraded, 0 newly installed, 0 to remove and 38 not upgraded.\n"
          ]
        }
      ]
    },
    {
      "cell_type": "code",
      "source": [
        "!convert -resize 600x600 -delay 20 -loop 0 01_basic*.png 01_basic_take3.gif"
      ],
      "metadata": {
        "id": "dQVJkkr7V6XY"
      },
      "execution_count": 640,
      "outputs": []
    },
    {
      "cell_type": "code",
      "source": [],
      "metadata": {
        "id": "gmmilwLSV-Ev"
      },
      "execution_count": 631,
      "outputs": []
    },
    {
      "cell_type": "code",
      "source": [],
      "metadata": {
        "id": "gheVYz2WWemn"
      },
      "execution_count": null,
      "outputs": []
    }
  ]
}
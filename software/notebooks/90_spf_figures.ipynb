{
  "nbformat": 4,
  "nbformat_minor": 0,
  "metadata": {
    "colab": {
      "provenance": [],
      "authorship_tag": "ABX9TyOrjLvRsxB3CVaRyEworVck",
      "include_colab_link": true
    },
    "kernelspec": {
      "name": "python3",
      "display_name": "Python 3"
    },
    "language_info": {
      "name": "python"
    }
  },
  "cells": [
    {
      "cell_type": "markdown",
      "metadata": {
        "id": "view-in-github",
        "colab_type": "text"
      },
      "source": [
        "<a href=\"https://colab.research.google.com/github/misko/spf/blob/main/software/notebooks/90_spf_figures.ipynb\" target=\"_parent\"><img src=\"https://colab.research.google.com/assets/colab-badge.svg\" alt=\"Open In Colab\"/></a>"
      ]
    },
    {
      "cell_type": "code",
      "source": [
        "from google.colab import auth\n",
        "auth.authenticate_user()\n",
        "\n",
        "# https://cloud.google.com/resource-manager/docs/creating-managing-projects\n",
        "project_id = 'prawnukkah'\n",
        "!gcloud config set project {project_id}"
      ],
      "metadata": {
        "colab": {
          "base_uri": "https://localhost:8080/"
        },
        "id": "O1yXTRkdGLs8",
        "outputId": "e7ae9e01-bfe8-4f82-b2ea-12ee5c1247ea"
      },
      "execution_count": null,
      "outputs": [
        {
          "output_type": "stream",
          "name": "stdout",
          "text": [
            "Updated property [core/project].\n"
          ]
        }
      ]
    },
    {
      "cell_type": "code",
      "source": [
        "! git clone https://github.com/misko/spf.git"
      ],
      "metadata": {
        "colab": {
          "base_uri": "https://localhost:8080/"
        },
        "id": "00SiWVpjLB8s",
        "outputId": "51003a57-43d9-4648-be22-973cdf4c6eae"
      },
      "execution_count": null,
      "outputs": [
        {
          "output_type": "stream",
          "name": "stdout",
          "text": [
            "Cloning into 'spf'...\n",
            "remote: Enumerating objects: 208, done.\u001b[K\n",
            "remote: Counting objects: 100% (208/208), done.\u001b[K\n",
            "remote: Compressing objects: 100% (148/148), done.\u001b[K\n",
            "remote: Total 208 (delta 113), reused 127 (delta 56), pack-reused 0\u001b[K\n",
            "Receiving objects: 100% (208/208), 13.95 MiB | 11.04 MiB/s, done.\n",
            "Resolving deltas: 100% (113/113), done.\n"
          ]
        }
      ]
    },
    {
      "cell_type": "code",
      "source": [
        "from smart_open import open\n",
        "import pickle\n",
        "session=pickle.load(\n",
        "    open('gs://spf-data/sessions_sigma0.0_sources3_n8192_timesteps256_timeinterval0.3_dtbounce/session_00000001.pkl','rb'))\n",
        "from spf.nn.rf_torch import labels_to_source_images,detector_positions_to_theta_grid,radio_to_image\n",
        "#generate the images for the session\n",
        "d={}\n",
        "d['source_image_at_t']=labels_to_source_images(torch.from_numpy(session['source_positions_at_t'])[None],width)[0]\n",
        "d['detector_theta_image_at_t']=detector_positions_to_theta_grid(session['detector_position_at_t'][None],width)[0]\n",
        "d['radio_image_at_t']=radio_to_image(session['beam_former_outputs_at_t'][None],d['detector_theta_image_at_t'][None])[0]\n",
        "d['radio_image_at_t_normed']=d['radio_image_at_t']/d['radio_image_at_t'].sum(axis=2,keepdims=True).sum(axis=3,keepdims=True)"
      ],
      "metadata": {
        "colab": {
          "base_uri": "https://localhost:8080/",
          "height": 258
        },
        "id": "VLinobupGSVk",
        "outputId": "2cff8630-bdb7-4689-8c11-235d3400b408"
      },
      "execution_count": null,
      "outputs": [
        {
          "output_type": "error",
          "ename": "NameError",
          "evalue": "ignored",
          "traceback": [
            "\u001b[0;31m---------------------------------------------------------------------------\u001b[0m",
            "\u001b[0;31mNameError\u001b[0m                                 Traceback (most recent call last)",
            "\u001b[0;32m<ipython-input-4-00190dd26967>\u001b[0m in \u001b[0;36m<cell line: 8>\u001b[0;34m()\u001b[0m\n\u001b[1;32m      6\u001b[0m \u001b[0;31m#generate the images for the session\u001b[0m\u001b[0;34m\u001b[0m\u001b[0;34m\u001b[0m\u001b[0m\n\u001b[1;32m      7\u001b[0m \u001b[0md\u001b[0m\u001b[0;34m=\u001b[0m\u001b[0;34m{\u001b[0m\u001b[0;34m}\u001b[0m\u001b[0;34m\u001b[0m\u001b[0;34m\u001b[0m\u001b[0m\n\u001b[0;32m----> 8\u001b[0;31m \u001b[0md\u001b[0m\u001b[0;34m[\u001b[0m\u001b[0;34m'source_image_at_t'\u001b[0m\u001b[0;34m]\u001b[0m\u001b[0;34m=\u001b[0m\u001b[0mlabels_to_source_images\u001b[0m\u001b[0;34m(\u001b[0m\u001b[0mtorch\u001b[0m\u001b[0;34m.\u001b[0m\u001b[0mfrom_numpy\u001b[0m\u001b[0;34m(\u001b[0m\u001b[0msession\u001b[0m\u001b[0;34m[\u001b[0m\u001b[0;34m'source_positions_at_t'\u001b[0m\u001b[0;34m]\u001b[0m\u001b[0;34m)\u001b[0m\u001b[0;34m[\u001b[0m\u001b[0;32mNone\u001b[0m\u001b[0;34m]\u001b[0m\u001b[0;34m,\u001b[0m\u001b[0mwidth\u001b[0m\u001b[0;34m)\u001b[0m\u001b[0;34m[\u001b[0m\u001b[0;36m0\u001b[0m\u001b[0;34m]\u001b[0m\u001b[0;34m\u001b[0m\u001b[0;34m\u001b[0m\u001b[0m\n\u001b[0m\u001b[1;32m      9\u001b[0m \u001b[0md\u001b[0m\u001b[0;34m[\u001b[0m\u001b[0;34m'detector_theta_image_at_t'\u001b[0m\u001b[0;34m]\u001b[0m\u001b[0;34m=\u001b[0m\u001b[0mdetector_positions_to_theta_grid\u001b[0m\u001b[0;34m(\u001b[0m\u001b[0msession\u001b[0m\u001b[0;34m[\u001b[0m\u001b[0;34m'detector_position_at_t'\u001b[0m\u001b[0;34m]\u001b[0m\u001b[0;34m[\u001b[0m\u001b[0;32mNone\u001b[0m\u001b[0;34m]\u001b[0m\u001b[0;34m,\u001b[0m\u001b[0mwidth\u001b[0m\u001b[0;34m)\u001b[0m\u001b[0;34m[\u001b[0m\u001b[0;36m0\u001b[0m\u001b[0;34m]\u001b[0m\u001b[0;34m\u001b[0m\u001b[0;34m\u001b[0m\u001b[0m\n\u001b[1;32m     10\u001b[0m \u001b[0md\u001b[0m\u001b[0;34m[\u001b[0m\u001b[0;34m'radio_image_at_t'\u001b[0m\u001b[0;34m]\u001b[0m\u001b[0;34m=\u001b[0m\u001b[0mradio_to_image\u001b[0m\u001b[0;34m(\u001b[0m\u001b[0msession\u001b[0m\u001b[0;34m[\u001b[0m\u001b[0;34m'beam_former_outputs_at_t'\u001b[0m\u001b[0;34m]\u001b[0m\u001b[0;34m[\u001b[0m\u001b[0;32mNone\u001b[0m\u001b[0;34m]\u001b[0m\u001b[0;34m,\u001b[0m\u001b[0md\u001b[0m\u001b[0;34m[\u001b[0m\u001b[0;34m'detector_theta_image_at_t'\u001b[0m\u001b[0;34m]\u001b[0m\u001b[0;34m[\u001b[0m\u001b[0;32mNone\u001b[0m\u001b[0;34m]\u001b[0m\u001b[0;34m)\u001b[0m\u001b[0;34m[\u001b[0m\u001b[0;36m0\u001b[0m\u001b[0;34m]\u001b[0m\u001b[0;34m\u001b[0m\u001b[0;34m\u001b[0m\u001b[0m\n",
            "\u001b[0;31mNameError\u001b[0m: name 'torch' is not defined"
          ]
        }
      ]
    },
    {
      "cell_type": "code",
      "source": [
        "session['width_at_t'].shape"
      ],
      "metadata": {
        "colab": {
          "base_uri": "https://localhost:8080/",
          "height": 169
        },
        "id": "DyjupMR7Bv8K",
        "outputId": "e5cb5270-43c8-4b69-c873-2c0a566f25f2"
      },
      "execution_count": null,
      "outputs": [
        {
          "output_type": "error",
          "ename": "NameError",
          "evalue": "ignored",
          "traceback": [
            "\u001b[0;31m---------------------------------------------------------------------------\u001b[0m",
            "\u001b[0;31mNameError\u001b[0m                                 Traceback (most recent call last)",
            "\u001b[0;32m<ipython-input-1-e633e884cdd3>\u001b[0m in \u001b[0;36m<cell line: 1>\u001b[0;34m()\u001b[0m\n\u001b[0;32m----> 1\u001b[0;31m \u001b[0msession\u001b[0m\u001b[0;34m[\u001b[0m\u001b[0;34m'width_at_t'\u001b[0m\u001b[0;34m]\u001b[0m\u001b[0;34m.\u001b[0m\u001b[0mshape\u001b[0m\u001b[0;34m\u001b[0m\u001b[0;34m\u001b[0m\u001b[0m\n\u001b[0m",
            "\u001b[0;31mNameError\u001b[0m: name 'session' is not defined"
          ]
        }
      ]
    },
    {
      "cell_type": "code",
      "source": [
        "\n",
        "import matplotlib.pyplot as plt \n",
        "\n",
        "\n",
        "def plot_trajectory(ax,\n",
        "                    positions,\n",
        "                    width,\n",
        "                    ms=30,\n",
        "                    steps_per_fade=10,\n",
        "                    fadep=0.8,\n",
        "                    c='b',\n",
        "                    rings=False,\n",
        "                    label=None):\n",
        "  ax.set_xlim([0,width])\n",
        "  ax.set_ylim([0,width])\n",
        "  n_steps=positions.shape[0]//steps_per_fade\n",
        "  if positions.shape[0]%steps_per_fade!=0:\n",
        "    n_steps+=1\n",
        "  alpha=1.0\n",
        "  for n in np.arange(n_steps):\n",
        "    start=positions.shape[0]-(n+1)*steps_per_fade\n",
        "    end=start+steps_per_fade\n",
        "    start=max(0,start)\n",
        "    ax.plot( positions[start:end,0], positions[start:end,1],'--',alpha=alpha,color=c,label=label)\n",
        "    alpha*=fadep\n",
        "  \n",
        "  ax.plot( positions[-1,0], positions[-1,1],'.',ms=ms,c=c)\n",
        "  if rings:\n",
        "    n=4\n",
        "    for x in range(n):\n",
        "      ax.plot( positions[-1,0], positions[-1,1],'.',ms=ms*(1.8**x),c=c,alpha=1/n)\n"
      ],
      "metadata": {
        "id": "EHNwvbrbnLLT"
      },
      "execution_count": null,
      "outputs": []
    },
    {
      "cell_type": "code",
      "source": [],
      "metadata": {
        "id": "-GVheKrBKlJk"
      },
      "execution_count": 17,
      "outputs": []
    },
    {
      "cell_type": "code",
      "source": [
        "!rm 01_basic*.png\n",
        "\n",
        "width=session['width_at_t'][0][0]\n",
        "\n",
        "filenames=[]\n",
        "plt.ioff()\n",
        "step_size=4\n",
        "for idx in np.arange(1,256,step_size):\n",
        "  fig=plt.figure(figsize=(12,12))\n",
        "  axs=fig.subplots(2,2)\n",
        "  for _a in [0,1]:\n",
        "    for _b in [0,1]:\n",
        "      if _a==0 and _b==1: \n",
        "        continue\n",
        "      axs[_a,_b].set_xlabel(\"X (m)\")\n",
        "      axs[_a,_b].set_ylabel(\"Y (m)\")\n",
        "\n",
        "  axs[0,0].set_title(\"Position map\")\n",
        "  plot_trajectory(axs[0,0],session['detector_position_at_t'][:idx],width,ms=30,label='detector')\n",
        "  for n in np.arange(session['source_positions_at_t'].shape[1]):\n",
        "    rings=(session['broadcasting_positions_at_t'][idx,n,0]==1)\n",
        "    plot_trajectory(axs[0,0],session['source_positions_at_t'][:idx,n],width,ms=15,c='r',rings=rings,label='emitter %d' % n)\n",
        "  #axs[0,0].legend()\n",
        "  handles, labels = axs[0,0].get_legend_handles_labels()\n",
        "  by_label = dict(zip(labels, handles))\n",
        "  axs[0,0].legend(by_label.values(), by_label.keys())\n",
        "  #lets draw the radio\n",
        "  axs[1,0].imshow(d['source_image_at_t'][idx,0].T,origin='lower')\n",
        "  axs[1,0].set_title(\"Emitters as image at t=%d\" % idx)\n",
        "\n",
        "  axs[1,1].imshow(d['radio_image_at_t'][idx,0].T,origin='lower')\n",
        "  axs[1,1].set_title(\"Radio feature at t=%d\" % idx)\n",
        "\n",
        "  axs[0,1].plot(session['thetas_at_t'][idx],session['beam_former_outputs_at_t'][idx])\n",
        "  axs[0,1].set_title(\"Beamformer output at t=%d\" % idx)\n",
        "  fn='01_basic_frame_%04d.png' % idx\n",
        "  filenames.append(fn)\n",
        "  fig.savefig(fn)\n",
        "  plt.close(fig)\n",
        "plt.ion()"
      ],
      "metadata": {
        "colab": {
          "base_uri": "https://localhost:8080/"
        },
        "id": "ZmblUgf4Jo0I",
        "outputId": "30085024-72f4-4cec-eb4e-775c282671b1"
      },
      "execution_count": null,
      "outputs": [
        {
          "output_type": "execute_result",
          "data": {
            "text/plain": [
              "<contextlib.ExitStack at 0x7ff826ed0880>"
            ]
          },
          "metadata": {},
          "execution_count": 636
        }
      ]
    },
    {
      "cell_type": "code",
      "source": [
        "\n",
        "# importing libraries\n",
        "from PIL import Image\n",
        "\n",
        "images=[]\n",
        "for fn in filenames:\n",
        "  images.append(Image.open(fn))\n",
        "\n",
        "images[0].save('01_basic.gif',\n",
        "               save_all = True, append_images = images[1:], \n",
        "               optimize = False, duration = 20)"
      ],
      "metadata": {
        "id": "nhqIrhcDUQQs"
      },
      "execution_count": null,
      "outputs": []
    },
    {
      "cell_type": "code",
      "source": [
        "!sudo apt-get install imagemagick"
      ],
      "metadata": {
        "colab": {
          "base_uri": "https://localhost:8080/"
        },
        "id": "2o18iDuSU_2Q",
        "outputId": "958fda05-3a7b-4b9b-f17a-1dcdd977a672"
      },
      "execution_count": null,
      "outputs": [
        {
          "output_type": "stream",
          "name": "stdout",
          "text": [
            "Reading package lists... Done\n",
            "Building dependency tree       \n",
            "Reading state information... Done\n",
            "imagemagick is already the newest version (8:6.9.10.23+dfsg-2.1ubuntu11.7).\n",
            "0 upgraded, 0 newly installed, 0 to remove and 38 not upgraded.\n"
          ]
        }
      ]
    },
    {
      "cell_type": "code",
      "source": [
        "import numpy as np\n",
        "from matplotlib import pyplot as plt\n",
        "\n",
        "plt.rcParams[\"figure.figsize\"] = [7.50, 3.50]\n",
        "plt.rcParams[\"figure.autolayout\"] = True\n",
        "\n",
        "N = 50\n",
        "x = np.random.randn(N)\n",
        "y = np.random.randn(N)\n",
        "\n",
        "plt.scatter(x, y, c=x, cmap=\"plasma\")\n",
        "\n",
        "plt.show()"
      ],
      "metadata": {
        "id": "dQVJkkr7V6XY",
        "colab": {
          "base_uri": "https://localhost:8080/",
          "height": 377
        },
        "outputId": "30210a78-7e08-41e3-9211-f225570f8b02"
      },
      "execution_count": 23,
      "outputs": [
        {
          "output_type": "display_data",
          "data": {
            "text/plain": [
              "<Figure size 750x350 with 1 Axes>"
            ],
            "image/png": "[encoded data removed]"
          },
          "metadata": {}
        }
      ]
    },
    {
      "cell_type": "code",
      "source": [
        "import PIL\n",
        "PIL.ImagePalette.ImagePalette(mode='RGBA')\n"
      ],
      "metadata": {
        "id": "gmmilwLSV-Ev",
        "colab": {
          "base_uri": "https://localhost:8080/"
        },
        "outputId": "e54d6bfe-1106-4915-b7cd-3801a1ea2ee2"
      },
      "execution_count": 77,
      "outputs": [
        {
          "output_type": "execute_result",
          "data": {
            "text/plain": [
              "<PIL.ImagePalette.ImagePalette at 0x7fd6f214c730>"
            ]
          },
          "metadata": {},
          "execution_count": 77
        }
      ]
    },
    {
      "cell_type": "code",
      "source": [
        "import numpy as np\n",
        "import matplotlib.pyplot as plt\n",
        "from matplotlib.lines import Line2D\n",
        "from functools import partial\n",
        "from PIL import Image\n",
        "#import matplotlib\n",
        "\n",
        "#Correct the first frame of gif animations:\n",
        "def CreateFrameWithAlphaValue(CurrentImage,size):\n",
        "    width,height=size\n",
        "    edited_frame = Img.new('RGBA', (width, height))\n",
        "    edited_frame.putalpha(0)\n",
        "    edited_frame.paste(CurrentImage, (0, 0))\n",
        "    return edited_frame\n",
        "\n",
        "def filenames_to_gif(filenames,\n",
        "                     output_gif_fn,\n",
        "                     ms_per_frame=50,\n",
        "                     quality=75,\n",
        "                     palette=None,\n",
        "                     resize=(1200,600)):\n",
        "        images=[]\n",
        "        for fn in filenames:\n",
        "                images.append(Image.open(fn).convert(\"RGBA\").resize(resize))\n",
        "\n",
        "        images[0].save(output_gif_fn,\n",
        "                  save_all = True, append_images = images[1:],\n",
        "                  optimize = False, duration = ms_per_frame,loop=0,quality=quality,palette=palette)\n",
        "        \n",
        "def orthogonal_2d(v):\n",
        "  return np.array([-v[1],v[0]])\n",
        "\n",
        "def get_grid(width):\n",
        "        _xy=np.arange(width).astype(np.int16)\n",
        "        _x,_y=np.meshgrid(_xy,_xy)\n",
        "        return np.stack((_x,_y)).transpose(2,1,0)\n",
        "\n",
        "def sin_signal_am_at_time_t(frequency,\n",
        "                         phase_offset,\n",
        "                         amplitudes,\n",
        "                         t):\n",
        "  phases=2*np.pi*frequency*t+phase_offset\n",
        "  amplitude_idxs=((phases//(2*np.pi))%amplitudes.shape[0]).astype(int)\n",
        "  output_signal=np.sin(phases)*np.take(amplitudes,amplitude_idxs)\n",
        "  output_signal[t<0]=0\n",
        "  return output_signal\n",
        "\n",
        "def sin_signal_at_time_t(frequency,\n",
        "                         phase_offset,\n",
        "                         t):\n",
        "  output_signal=np.sin(2*np.pi*frequency*t+phase_offset)  \n",
        "  output_signal[t<0]=0\n",
        "  return output_signal\n",
        "\n",
        "def block_signal_at_time_t(symbols,\n",
        "                           symbol_duration,\n",
        "                           t):\n",
        "  cycle_length=len(symbols) \n",
        "  idxs=((t//symbol_duration)%cycle_length).astype(int) # which symbol we are broadcasting\n",
        "  output_signal=np.take(symbols,idxs)\n",
        "  output_signal[t<0]=0\n",
        "  return output_signal\n",
        "\n",
        "def draw_sampling(detector,emitters,t,axs,max_t,\n",
        "                  title='Antenna array output',\n",
        "                  detector_labels=None,\n",
        "                  ylims=[-1.1,1.1]):\n",
        "  sampling_n=int(t*d.sampling_frequency)+1 # number of samplings\n",
        "  if sampling_n==0:\n",
        "    return\n",
        "  sampling_times=np.arange(sampling_n)*(1/d.sampling_frequency)\n",
        "  axs[0].set_title(title)\n",
        "  axs[-1].set_xlabel(\"Time\")\n",
        "  if detector_labels is None:\n",
        "    detector_labels=[ \"%d\" % idx for idx in range(detector.n_elements)]\n",
        "  for detector_element_idx,detector_element_pos in enumerate(detector.element_positions):\n",
        "    z=sampling_times-np.linalg.norm(\n",
        "              emitters[0].position-detector_element_pos)/d.speed_of_signal\n",
        "    signal_at_position=np.vstack(\n",
        "      [ e.signal_at_time_t(\n",
        "          sampling_times-np.linalg.norm(\n",
        "              e.position-detector_element_pos)/d.speed_of_signal)[None] for e in emitters ] ).sum(axis=0)\n",
        "    ax=axs[detector_element_idx]\n",
        "    ax.plot(sampling_times,\n",
        "               signal_at_position,\n",
        "               color='black',alpha=0.2)\n",
        "    ax.scatter(sampling_times,\n",
        "               signal_at_position,\n",
        "               label=detector_labels[detector_element_idx],\n",
        "               s=6,\n",
        "               c=signal_at_position,cmap='bwr',vmin=-1, vmax=1)\n",
        "    ax.legend(loc=2)\n",
        "    ax.set_ylabel(\"Signal\")\n",
        "    ax.set_ylim(ylims)\n",
        "    ax.set_xlim([0,max_t+1/d.sampling_frequency])\n",
        "\n",
        "def draw_scene(detector,emitters,t,ax,max_t,\n",
        "               detector_label='Detector element',\n",
        "               emitter_label='Emitter'\n",
        "               ):\n",
        "  ax.cla()\n",
        "  emitter_positions=np.vstack([ e.position for e in emitters ])\n",
        "  g=get_grid(detector.width)\n",
        "  time_at_dist=t-np.linalg.norm(g-emitter_positions[0],axis=2).T/detector.speed_of_signal\n",
        "  signal_at_position=np.vstack(\n",
        "      [ e.signal_at_time_t(time_at_dist)[None] for e in emitters ] ).sum(axis=0)\n",
        "  ax.imshow(signal_at_position,origin='lower',alpha=0.5,cmap='bwr',vmin=-1, vmax=1)\n",
        "  #draw the receiver antenna\n",
        "  ax.scatter(d.element_positions[:,0],\n",
        "             d.element_positions[:,1],s=160,c='b',marker='.')\n",
        "  #draw the normal to the array\n",
        "  array_center_normal=(d.position+(detector.width/2)*d.array_normal)\n",
        "  ax.plot([d.position[0,0],array_center_normal[0,0]],\n",
        "          [d.position[0,1],array_center_normal[0,1]],linestyle='--',c='b')#+3*array_normal)\n",
        "  #draw parallel to the array\n",
        "  a1=d.position-(detector.width/4)*orthogonal_2d(d.array_normal)\n",
        "  a2=d.position+(detector.width/4)*orthogonal_2d(d.array_normal)\n",
        "  ax.plot([a1[0,0],a2[0,0]],\n",
        "          [a1[0,1],a2[0,1]],linestyle='--',c='b')#+3*array_normal)\n",
        "\n",
        "  ax.scatter(emitter_positions[:,0],\n",
        "             emitter_positions[:,1],s=40,c='r',marker='.')\n",
        "  ax.set_xlim([0,detector.width])\n",
        "  ax.set_ylim([0,detector.width])\n",
        "  ax.set_xlabel(\"X in (m)\")\n",
        "  ax.set_ylabel(\"Y in (m)\")\n",
        "  legend_elements = [\n",
        "                   Line2D([0], [0], marker='o', color='w', label=detector_label,\n",
        "                          markerfacecolor='b', markersize=5),\n",
        "                   Line2D([0], [0], linestyle='--', lw=1, color='b', label='Detector axis'),\n",
        "                   Line2D([0], [0], marker='o', color='w', label=emitter_label,\n",
        "                          markerfacecolor='r', markersize=5)]\n",
        "  ax.legend(handles=legend_elements, loc=2)\n",
        "  ax.set_title(\"Spatial setup\")\n",
        "\n",
        "class Emitter:\n",
        "  def __init__(self,\n",
        "               position,\n",
        "               signal_at_time_t):\n",
        "    self.position=position.reshape(1,2)\n",
        "    self.signal_at_time_t=signal_at_time_t\n",
        "\n",
        "class Detector:\n",
        "  def __init__(self,\n",
        "               width,\n",
        "               speed_of_signal,\n",
        "               position,\n",
        "               theta,\n",
        "               n_elements,\n",
        "               element_offset,\n",
        "               sampling_frequency):\n",
        "    self.width=width\n",
        "    self.speed_of_signal=speed_of_signal\n",
        "    self.position=position.reshape(1,2)\n",
        "    self.theta=theta\n",
        "    self.n_elements=n_elements\n",
        "    self.element_offset=element_offset\n",
        "    self.sampling_frequency=sampling_frequency\n",
        "  \n",
        "  @property\n",
        "  def array_normal(self):\n",
        "    return np.array([\n",
        "            np.cos(self.theta),\n",
        "            np.sin(self.theta)])\n",
        "  @property\n",
        "  def element_positions(self):\n",
        "    element_offsets=np.arange(self.n_elements)*self.element_offset\n",
        "    element_offsets-=element_offsets.mean()\n",
        "    return self.position.reshape(1,2)+np.vstack([\n",
        "         orthogonal_2d(self.array_normal)*offset for offset in element_offsets])\n",
        "\n"
      ],
      "metadata": {
        "id": "gheVYz2WWemn"
      },
      "execution_count": 164,
      "outputs": []
    },
    {
      "cell_type": "code",
      "source": [
        "width=500\n",
        "wavelength=width*0.2\n",
        "speed_of_signal=width*0.1\n",
        "detector_sampling_frequency=(speed_of_signal/wavelength)*20\n",
        "\n"
      ],
      "metadata": {
        "id": "oSj4ISQ_LHk0"
      },
      "execution_count": 5,
      "outputs": []
    },
    {
      "cell_type": "code",
      "source": [
        "#Classic block only positive keys emitter\n",
        "\n",
        "#detector\n",
        "d=Detector(\n",
        "    width=width,\n",
        "    speed_of_signal=speed_of_signal,\n",
        "    position=np.array([width*0.4,width*0.3]),\n",
        "    theta=np.pi*0.4,\n",
        "    n_elements=2,\n",
        "    element_offset=wavelength/2,\n",
        "    sampling_frequency=(speed_of_signal/wavelength)*12 # 20 samples per wavelength,\n",
        ")\n",
        "#emitter\n",
        "emitters=[ Emitter(\n",
        "    position=np.array([[width*0.8,width*0.4]]),\n",
        "    signal_at_time_t=partial(\n",
        "        block_signal_at_time_t,\n",
        "        np.array([0.5,1,0,0,0.5,1]),\n",
        "        wavelength/speed_of_signal,\n",
        "    )\n",
        ") ]\n",
        "\n",
        "#plotting parameters\n",
        "time_steps=140\n",
        "time_per_step=(1/d.sampling_frequency)\n",
        "\n",
        "png_filenames=[]\n",
        "#plt.ion()\n",
        "plt.ioff()\n",
        "for t in np.arange(time_steps)*time_per_step:\n",
        "  fig=plt.figure(figsize=(10,5))\n",
        "  gs = fig.add_gridspec(d.n_elements,2)\n",
        "  scene_ax = fig.add_subplot(gs[:, 0])\n",
        "  detector_element_axs=[fig.add_subplot(gs[0, 1])]\n",
        "  for idx in range(1,d.n_elements):\n",
        "    detector_element_axs.append(\n",
        "      fig.add_subplot(gs[idx, 1],\n",
        "                      sharex=detector_element_axs[0],\n",
        "                      sharey=detector_element_axs[0]))\n",
        "  draw_scene(d,emitters,t,scene_ax,max_t=time_steps*time_per_step,\n",
        "             detector_label=\"your ears\",emitter_label=\"bluetooth tag\")\n",
        "  draw_sampling(d,emitters,t,detector_element_axs,max_t=time_steps*time_per_step,\n",
        "                detector_labels=['left ear','right ear'],\n",
        "                title='What was heard and when',ylims=[0,1.1])\n",
        "  fn='out_%0.3f.png' % t\n",
        "  fig.tight_layout()\n",
        "  fig.savefig(fn)\n",
        "  png_filenames.append(fn)\n",
        "filenames_to_gif(png_filenames,\n",
        "                  'tag_finding_sf%0.3f.gif' % (d.sampling_frequency),\n",
        "                  ms_per_frame=150)\n",
        "plt.ion()\n"
      ],
      "metadata": {
        "colab": {
          "base_uri": "https://localhost:8080/",
          "height": 425
        },
        "id": "oHrq5hDAjeSj",
        "outputId": "1e38037d-a422-4a41-f389-c3d88834441b"
      },
      "execution_count": 10,
      "outputs": [
        {
          "output_type": "error",
          "ename": "KeyboardInterrupt",
          "evalue": "ignored",
          "traceback": [
            "\u001b[0;31m---------------------------------------------------------------------------\u001b[0m",
            "\u001b[0;31mKeyboardInterrupt\u001b[0m                         Traceback (most recent call last)",
            "\u001b[0;32m<ipython-input-10-504798e65301>\u001b[0m in \u001b[0;36m<cell line: 30>\u001b[0;34m()\u001b[0m\n\u001b[1;32m     45\u001b[0m   \u001b[0mfn\u001b[0m\u001b[0;34m=\u001b[0m\u001b[0;34m'out_%0.3f.png'\u001b[0m \u001b[0;34m%\u001b[0m \u001b[0mt\u001b[0m\u001b[0;34m\u001b[0m\u001b[0;34m\u001b[0m\u001b[0m\n\u001b[1;32m     46\u001b[0m   \u001b[0mfig\u001b[0m\u001b[0;34m.\u001b[0m\u001b[0mtight_layout\u001b[0m\u001b[0;34m(\u001b[0m\u001b[0;34m)\u001b[0m\u001b[0;34m\u001b[0m\u001b[0;34m\u001b[0m\u001b[0m\n\u001b[0;32m---> 47\u001b[0;31m   \u001b[0mfig\u001b[0m\u001b[0;34m.\u001b[0m\u001b[0msavefig\u001b[0m\u001b[0;34m(\u001b[0m\u001b[0mfn\u001b[0m\u001b[0;34m)\u001b[0m\u001b[0;34m\u001b[0m\u001b[0;34m\u001b[0m\u001b[0m\n\u001b[0m\u001b[1;32m     48\u001b[0m   \u001b[0mpng_filenames\u001b[0m\u001b[0;34m.\u001b[0m\u001b[0mappend\u001b[0m\u001b[0;34m(\u001b[0m\u001b[0mfn\u001b[0m\u001b[0;34m)\u001b[0m\u001b[0;34m\u001b[0m\u001b[0;34m\u001b[0m\u001b[0m\n\u001b[1;32m     49\u001b[0m filenames_to_gif(png_filenames,\n",
            "\u001b[0;32m/usr/local/lib/python3.10/dist-packages/matplotlib/figure.py\u001b[0m in \u001b[0;36msavefig\u001b[0;34m(self, fname, transparent, **kwargs)\u001b[0m\n\u001b[1;32m   3341\u001b[0m                         ax.patch._cm_set(facecolor='none', edgecolor='none'))\n\u001b[1;32m   3342\u001b[0m \u001b[0;34m\u001b[0m\u001b[0m\n\u001b[0;32m-> 3343\u001b[0;31m             \u001b[0mself\u001b[0m\u001b[0;34m.\u001b[0m\u001b[0mcanvas\u001b[0m\u001b[0;34m.\u001b[0m\u001b[0mprint_figure\u001b[0m\u001b[0;34m(\u001b[0m\u001b[0mfname\u001b[0m\u001b[0;34m,\u001b[0m \u001b[0;34m**\u001b[0m\u001b[0mkwargs\u001b[0m\u001b[0;34m)\u001b[0m\u001b[0;34m\u001b[0m\u001b[0;34m\u001b[0m\u001b[0m\n\u001b[0m\u001b[1;32m   3344\u001b[0m \u001b[0;34m\u001b[0m\u001b[0m\n\u001b[1;32m   3345\u001b[0m     def ginput(self, n=1, timeout=30, show_clicks=True,\n",
            "\u001b[0;32m/usr/local/lib/python3.10/dist-packages/matplotlib/backend_bases.py\u001b[0m in \u001b[0;36mprint_figure\u001b[0;34m(self, filename, dpi, facecolor, edgecolor, orientation, format, bbox_inches, pad_inches, bbox_extra_artists, backend, **kwargs)\u001b[0m\n\u001b[1;32m   2364\u001b[0m                 \u001b[0;31m# force the figure dpi to 72), so we need to set it again here.\u001b[0m\u001b[0;34m\u001b[0m\u001b[0;34m\u001b[0m\u001b[0m\n\u001b[1;32m   2365\u001b[0m                 \u001b[0;32mwith\u001b[0m \u001b[0mcbook\u001b[0m\u001b[0;34m.\u001b[0m\u001b[0m_setattr_cm\u001b[0m\u001b[0;34m(\u001b[0m\u001b[0mself\u001b[0m\u001b[0;34m.\u001b[0m\u001b[0mfigure\u001b[0m\u001b[0;34m,\u001b[0m \u001b[0mdpi\u001b[0m\u001b[0;34m=\u001b[0m\u001b[0mdpi\u001b[0m\u001b[0;34m)\u001b[0m\u001b[0;34m:\u001b[0m\u001b[0;34m\u001b[0m\u001b[0;34m\u001b[0m\u001b[0m\n\u001b[0;32m-> 2366\u001b[0;31m                     result = print_method(\n\u001b[0m\u001b[1;32m   2367\u001b[0m                         \u001b[0mfilename\u001b[0m\u001b[0;34m,\u001b[0m\u001b[0;34m\u001b[0m\u001b[0;34m\u001b[0m\u001b[0m\n\u001b[1;32m   2368\u001b[0m                         \u001b[0mfacecolor\u001b[0m\u001b[0;34m=\u001b[0m\u001b[0mfacecolor\u001b[0m\u001b[0;34m,\u001b[0m\u001b[0;34m\u001b[0m\u001b[0;34m\u001b[0m\u001b[0m\n",
            "\u001b[0;32m/usr/local/lib/python3.10/dist-packages/matplotlib/backend_bases.py\u001b[0m in \u001b[0;36m<lambda>\u001b[0;34m(*args, **kwargs)\u001b[0m\n\u001b[1;32m   2230\u001b[0m                 \"bbox_inches_restore\"}\n\u001b[1;32m   2231\u001b[0m             \u001b[0mskip\u001b[0m \u001b[0;34m=\u001b[0m \u001b[0moptional_kws\u001b[0m \u001b[0;34m-\u001b[0m \u001b[0;34m{\u001b[0m\u001b[0;34m*\u001b[0m\u001b[0minspect\u001b[0m\u001b[0;34m.\u001b[0m\u001b[0msignature\u001b[0m\u001b[0;34m(\u001b[0m\u001b[0mmeth\u001b[0m\u001b[0;34m)\u001b[0m\u001b[0;34m.\u001b[0m\u001b[0mparameters\u001b[0m\u001b[0;34m}\u001b[0m\u001b[0;34m\u001b[0m\u001b[0;34m\u001b[0m\u001b[0m\n\u001b[0;32m-> 2232\u001b[0;31m             print_method = functools.wraps(meth)(lambda *args, **kwargs: meth(\n\u001b[0m\u001b[1;32m   2233\u001b[0m                 *args, **{k: v for k, v in kwargs.items() if k not in skip}))\n\u001b[1;32m   2234\u001b[0m         \u001b[0;32melse\u001b[0m\u001b[0;34m:\u001b[0m  \u001b[0;31m# Let third-parties do as they see fit.\u001b[0m\u001b[0;34m\u001b[0m\u001b[0;34m\u001b[0m\u001b[0m\n",
            "\u001b[0;32m/usr/local/lib/python3.10/dist-packages/matplotlib/backends/backend_agg.py\u001b[0m in \u001b[0;36mprint_png\u001b[0;34m(self, filename_or_obj, metadata, pil_kwargs)\u001b[0m\n\u001b[1;32m    507\u001b[0m             \u001b[0;34m*\u001b[0m\u001b[0mmetadata\u001b[0m\u001b[0;34m*\u001b[0m\u001b[0;34m,\u001b[0m \u001b[0mincluding\u001b[0m \u001b[0mthe\u001b[0m \u001b[0mdefault\u001b[0m \u001b[0;34m'Software'\u001b[0m \u001b[0mkey\u001b[0m\u001b[0;34m.\u001b[0m\u001b[0;34m\u001b[0m\u001b[0;34m\u001b[0m\u001b[0m\n\u001b[1;32m    508\u001b[0m         \"\"\"\n\u001b[0;32m--> 509\u001b[0;31m         \u001b[0mself\u001b[0m\u001b[0;34m.\u001b[0m\u001b[0m_print_pil\u001b[0m\u001b[0;34m(\u001b[0m\u001b[0mfilename_or_obj\u001b[0m\u001b[0;34m,\u001b[0m \u001b[0;34m\"png\"\u001b[0m\u001b[0;34m,\u001b[0m \u001b[0mpil_kwargs\u001b[0m\u001b[0;34m,\u001b[0m \u001b[0mmetadata\u001b[0m\u001b[0;34m)\u001b[0m\u001b[0;34m\u001b[0m\u001b[0;34m\u001b[0m\u001b[0m\n\u001b[0m\u001b[1;32m    510\u001b[0m \u001b[0;34m\u001b[0m\u001b[0m\n\u001b[1;32m    511\u001b[0m     \u001b[0;32mdef\u001b[0m \u001b[0mprint_to_buffer\u001b[0m\u001b[0;34m(\u001b[0m\u001b[0mself\u001b[0m\u001b[0;34m)\u001b[0m\u001b[0;34m:\u001b[0m\u001b[0;34m\u001b[0m\u001b[0;34m\u001b[0m\u001b[0m\n",
            "\u001b[0;32m/usr/local/lib/python3.10/dist-packages/matplotlib/backends/backend_agg.py\u001b[0m in \u001b[0;36m_print_pil\u001b[0;34m(self, filename_or_obj, fmt, pil_kwargs, metadata)\u001b[0m\n\u001b[1;32m    455\u001b[0m         *pil_kwargs* and *metadata* are forwarded).\n\u001b[1;32m    456\u001b[0m         \"\"\"\n\u001b[0;32m--> 457\u001b[0;31m         \u001b[0mFigureCanvasAgg\u001b[0m\u001b[0;34m.\u001b[0m\u001b[0mdraw\u001b[0m\u001b[0;34m(\u001b[0m\u001b[0mself\u001b[0m\u001b[0;34m)\u001b[0m\u001b[0;34m\u001b[0m\u001b[0;34m\u001b[0m\u001b[0m\n\u001b[0m\u001b[1;32m    458\u001b[0m         mpl.image.imsave(\n\u001b[1;32m    459\u001b[0m             \u001b[0mfilename_or_obj\u001b[0m\u001b[0;34m,\u001b[0m \u001b[0mself\u001b[0m\u001b[0;34m.\u001b[0m\u001b[0mbuffer_rgba\u001b[0m\u001b[0;34m(\u001b[0m\u001b[0;34m)\u001b[0m\u001b[0;34m,\u001b[0m \u001b[0mformat\u001b[0m\u001b[0;34m=\u001b[0m\u001b[0mfmt\u001b[0m\u001b[0;34m,\u001b[0m \u001b[0morigin\u001b[0m\u001b[0;34m=\u001b[0m\u001b[0;34m\"upper\"\u001b[0m\u001b[0;34m,\u001b[0m\u001b[0;34m\u001b[0m\u001b[0;34m\u001b[0m\u001b[0m\n",
            "\u001b[0;32m/usr/local/lib/python3.10/dist-packages/matplotlib/backends/backend_agg.py\u001b[0m in \u001b[0;36mdraw\u001b[0;34m(self)\u001b[0m\n\u001b[1;32m    398\u001b[0m              (self.toolbar._wait_cursor_for_draw_cm() if self.toolbar\n\u001b[1;32m    399\u001b[0m               else nullcontext()):\n\u001b[0;32m--> 400\u001b[0;31m             \u001b[0mself\u001b[0m\u001b[0;34m.\u001b[0m\u001b[0mfigure\u001b[0m\u001b[0;34m.\u001b[0m\u001b[0mdraw\u001b[0m\u001b[0;34m(\u001b[0m\u001b[0mself\u001b[0m\u001b[0;34m.\u001b[0m\u001b[0mrenderer\u001b[0m\u001b[0;34m)\u001b[0m\u001b[0;34m\u001b[0m\u001b[0;34m\u001b[0m\u001b[0m\n\u001b[0m\u001b[1;32m    401\u001b[0m             \u001b[0;31m# A GUI class may be need to update a window using this draw, so\u001b[0m\u001b[0;34m\u001b[0m\u001b[0;34m\u001b[0m\u001b[0m\n\u001b[1;32m    402\u001b[0m             \u001b[0;31m# don't forget to call the superclass.\u001b[0m\u001b[0;34m\u001b[0m\u001b[0;34m\u001b[0m\u001b[0m\n",
            "\u001b[0;32m/usr/local/lib/python3.10/dist-packages/matplotlib/artist.py\u001b[0m in \u001b[0;36mdraw_wrapper\u001b[0;34m(artist, renderer, *args, **kwargs)\u001b[0m\n\u001b[1;32m     93\u001b[0m     \u001b[0;34m@\u001b[0m\u001b[0mwraps\u001b[0m\u001b[0;34m(\u001b[0m\u001b[0mdraw\u001b[0m\u001b[0;34m)\u001b[0m\u001b[0;34m\u001b[0m\u001b[0;34m\u001b[0m\u001b[0m\n\u001b[1;32m     94\u001b[0m     \u001b[0;32mdef\u001b[0m \u001b[0mdraw_wrapper\u001b[0m\u001b[0;34m(\u001b[0m\u001b[0martist\u001b[0m\u001b[0;34m,\u001b[0m \u001b[0mrenderer\u001b[0m\u001b[0;34m,\u001b[0m \u001b[0;34m*\u001b[0m\u001b[0margs\u001b[0m\u001b[0;34m,\u001b[0m \u001b[0;34m**\u001b[0m\u001b[0mkwargs\u001b[0m\u001b[0;34m)\u001b[0m\u001b[0;34m:\u001b[0m\u001b[0;34m\u001b[0m\u001b[0;34m\u001b[0m\u001b[0m\n\u001b[0;32m---> 95\u001b[0;31m         \u001b[0mresult\u001b[0m \u001b[0;34m=\u001b[0m \u001b[0mdraw\u001b[0m\u001b[0;34m(\u001b[0m\u001b[0martist\u001b[0m\u001b[0;34m,\u001b[0m \u001b[0mrenderer\u001b[0m\u001b[0;34m,\u001b[0m \u001b[0;34m*\u001b[0m\u001b[0margs\u001b[0m\u001b[0;34m,\u001b[0m \u001b[0;34m**\u001b[0m\u001b[0mkwargs\u001b[0m\u001b[0;34m)\u001b[0m\u001b[0;34m\u001b[0m\u001b[0;34m\u001b[0m\u001b[0m\n\u001b[0m\u001b[1;32m     96\u001b[0m         \u001b[0;32mif\u001b[0m \u001b[0mrenderer\u001b[0m\u001b[0;34m.\u001b[0m\u001b[0m_rasterizing\u001b[0m\u001b[0;34m:\u001b[0m\u001b[0;34m\u001b[0m\u001b[0;34m\u001b[0m\u001b[0m\n\u001b[1;32m     97\u001b[0m             \u001b[0mrenderer\u001b[0m\u001b[0;34m.\u001b[0m\u001b[0mstop_rasterizing\u001b[0m\u001b[0;34m(\u001b[0m\u001b[0;34m)\u001b[0m\u001b[0;34m\u001b[0m\u001b[0;34m\u001b[0m\u001b[0m\n",
            "\u001b[0;32m/usr/local/lib/python3.10/dist-packages/matplotlib/artist.py\u001b[0m in \u001b[0;36mdraw_wrapper\u001b[0;34m(artist, renderer)\u001b[0m\n\u001b[1;32m     70\u001b[0m                 \u001b[0mrenderer\u001b[0m\u001b[0;34m.\u001b[0m\u001b[0mstart_filter\u001b[0m\u001b[0;34m(\u001b[0m\u001b[0;34m)\u001b[0m\u001b[0;34m\u001b[0m\u001b[0;34m\u001b[0m\u001b[0m\n\u001b[1;32m     71\u001b[0m \u001b[0;34m\u001b[0m\u001b[0m\n\u001b[0;32m---> 72\u001b[0;31m             \u001b[0;32mreturn\u001b[0m \u001b[0mdraw\u001b[0m\u001b[0;34m(\u001b[0m\u001b[0martist\u001b[0m\u001b[0;34m,\u001b[0m \u001b[0mrenderer\u001b[0m\u001b[0;34m)\u001b[0m\u001b[0;34m\u001b[0m\u001b[0;34m\u001b[0m\u001b[0m\n\u001b[0m\u001b[1;32m     73\u001b[0m         \u001b[0;32mfinally\u001b[0m\u001b[0;34m:\u001b[0m\u001b[0;34m\u001b[0m\u001b[0;34m\u001b[0m\u001b[0m\n\u001b[1;32m     74\u001b[0m             \u001b[0;32mif\u001b[0m \u001b[0martist\u001b[0m\u001b[0;34m.\u001b[0m\u001b[0mget_agg_filter\u001b[0m\u001b[0;34m(\u001b[0m\u001b[0;34m)\u001b[0m \u001b[0;32mis\u001b[0m \u001b[0;32mnot\u001b[0m \u001b[0;32mNone\u001b[0m\u001b[0;34m:\u001b[0m\u001b[0;34m\u001b[0m\u001b[0;34m\u001b[0m\u001b[0m\n",
            "\u001b[0;32m/usr/local/lib/python3.10/dist-packages/matplotlib/figure.py\u001b[0m in \u001b[0;36mdraw\u001b[0;34m(self, renderer)\u001b[0m\n\u001b[1;32m   3138\u001b[0m \u001b[0;34m\u001b[0m\u001b[0m\n\u001b[1;32m   3139\u001b[0m             \u001b[0mself\u001b[0m\u001b[0;34m.\u001b[0m\u001b[0mpatch\u001b[0m\u001b[0;34m.\u001b[0m\u001b[0mdraw\u001b[0m\u001b[0;34m(\u001b[0m\u001b[0mrenderer\u001b[0m\u001b[0;34m)\u001b[0m\u001b[0;34m\u001b[0m\u001b[0;34m\u001b[0m\u001b[0m\n\u001b[0;32m-> 3140\u001b[0;31m             mimage._draw_list_compositing_images(\n\u001b[0m\u001b[1;32m   3141\u001b[0m                 renderer, self, artists, self.suppressComposite)\n\u001b[1;32m   3142\u001b[0m \u001b[0;34m\u001b[0m\u001b[0m\n",
            "\u001b[0;32m/usr/local/lib/python3.10/dist-packages/matplotlib/image.py\u001b[0m in \u001b[0;36m_draw_list_compositing_images\u001b[0;34m(renderer, parent, artists, suppress_composite)\u001b[0m\n\u001b[1;32m    129\u001b[0m     \u001b[0;32mif\u001b[0m \u001b[0mnot_composite\u001b[0m \u001b[0;32mor\u001b[0m \u001b[0;32mnot\u001b[0m \u001b[0mhas_images\u001b[0m\u001b[0;34m:\u001b[0m\u001b[0;34m\u001b[0m\u001b[0;34m\u001b[0m\u001b[0m\n\u001b[1;32m    130\u001b[0m         \u001b[0;32mfor\u001b[0m \u001b[0ma\u001b[0m \u001b[0;32min\u001b[0m \u001b[0martists\u001b[0m\u001b[0;34m:\u001b[0m\u001b[0;34m\u001b[0m\u001b[0;34m\u001b[0m\u001b[0m\n\u001b[0;32m--> 131\u001b[0;31m             \u001b[0ma\u001b[0m\u001b[0;34m.\u001b[0m\u001b[0mdraw\u001b[0m\u001b[0;34m(\u001b[0m\u001b[0mrenderer\u001b[0m\u001b[0;34m)\u001b[0m\u001b[0;34m\u001b[0m\u001b[0;34m\u001b[0m\u001b[0m\n\u001b[0m\u001b[1;32m    132\u001b[0m     \u001b[0;32melse\u001b[0m\u001b[0;34m:\u001b[0m\u001b[0;34m\u001b[0m\u001b[0;34m\u001b[0m\u001b[0m\n\u001b[1;32m    133\u001b[0m         \u001b[0;31m# Composite any adjacent images together\u001b[0m\u001b[0;34m\u001b[0m\u001b[0;34m\u001b[0m\u001b[0m\n",
            "\u001b[0;32m/usr/local/lib/python3.10/dist-packages/matplotlib/artist.py\u001b[0m in \u001b[0;36mdraw_wrapper\u001b[0;34m(artist, renderer)\u001b[0m\n\u001b[1;32m     70\u001b[0m                 \u001b[0mrenderer\u001b[0m\u001b[0;34m.\u001b[0m\u001b[0mstart_filter\u001b[0m\u001b[0;34m(\u001b[0m\u001b[0;34m)\u001b[0m\u001b[0;34m\u001b[0m\u001b[0;34m\u001b[0m\u001b[0m\n\u001b[1;32m     71\u001b[0m \u001b[0;34m\u001b[0m\u001b[0m\n\u001b[0;32m---> 72\u001b[0;31m             \u001b[0;32mreturn\u001b[0m \u001b[0mdraw\u001b[0m\u001b[0;34m(\u001b[0m\u001b[0martist\u001b[0m\u001b[0;34m,\u001b[0m \u001b[0mrenderer\u001b[0m\u001b[0;34m)\u001b[0m\u001b[0;34m\u001b[0m\u001b[0;34m\u001b[0m\u001b[0m\n\u001b[0m\u001b[1;32m     73\u001b[0m         \u001b[0;32mfinally\u001b[0m\u001b[0;34m:\u001b[0m\u001b[0;34m\u001b[0m\u001b[0;34m\u001b[0m\u001b[0m\n\u001b[1;32m     74\u001b[0m             \u001b[0;32mif\u001b[0m \u001b[0martist\u001b[0m\u001b[0;34m.\u001b[0m\u001b[0mget_agg_filter\u001b[0m\u001b[0;34m(\u001b[0m\u001b[0;34m)\u001b[0m \u001b[0;32mis\u001b[0m \u001b[0;32mnot\u001b[0m \u001b[0;32mNone\u001b[0m\u001b[0;34m:\u001b[0m\u001b[0;34m\u001b[0m\u001b[0;34m\u001b[0m\u001b[0m\n",
            "\u001b[0;32m/usr/local/lib/python3.10/dist-packages/matplotlib/axes/_base.py\u001b[0m in \u001b[0;36mdraw\u001b[0;34m(self, renderer)\u001b[0m\n\u001b[1;32m   3062\u001b[0m             \u001b[0m_draw_rasterized\u001b[0m\u001b[0;34m(\u001b[0m\u001b[0mself\u001b[0m\u001b[0;34m.\u001b[0m\u001b[0mfigure\u001b[0m\u001b[0;34m,\u001b[0m \u001b[0martists_rasterized\u001b[0m\u001b[0;34m,\u001b[0m \u001b[0mrenderer\u001b[0m\u001b[0;34m)\u001b[0m\u001b[0;34m\u001b[0m\u001b[0;34m\u001b[0m\u001b[0m\n\u001b[1;32m   3063\u001b[0m \u001b[0;34m\u001b[0m\u001b[0m\n\u001b[0;32m-> 3064\u001b[0;31m         mimage._draw_list_compositing_images(\n\u001b[0m\u001b[1;32m   3065\u001b[0m             renderer, self, artists, self.figure.suppressComposite)\n\u001b[1;32m   3066\u001b[0m \u001b[0;34m\u001b[0m\u001b[0m\n",
            "\u001b[0;32m/usr/local/lib/python3.10/dist-packages/matplotlib/image.py\u001b[0m in \u001b[0;36m_draw_list_compositing_images\u001b[0;34m(renderer, parent, artists, suppress_composite)\u001b[0m\n\u001b[1;32m    129\u001b[0m     \u001b[0;32mif\u001b[0m \u001b[0mnot_composite\u001b[0m \u001b[0;32mor\u001b[0m \u001b[0;32mnot\u001b[0m \u001b[0mhas_images\u001b[0m\u001b[0;34m:\u001b[0m\u001b[0;34m\u001b[0m\u001b[0;34m\u001b[0m\u001b[0m\n\u001b[1;32m    130\u001b[0m         \u001b[0;32mfor\u001b[0m \u001b[0ma\u001b[0m \u001b[0;32min\u001b[0m \u001b[0martists\u001b[0m\u001b[0;34m:\u001b[0m\u001b[0;34m\u001b[0m\u001b[0;34m\u001b[0m\u001b[0m\n\u001b[0;32m--> 131\u001b[0;31m             \u001b[0ma\u001b[0m\u001b[0;34m.\u001b[0m\u001b[0mdraw\u001b[0m\u001b[0;34m(\u001b[0m\u001b[0mrenderer\u001b[0m\u001b[0;34m)\u001b[0m\u001b[0;34m\u001b[0m\u001b[0;34m\u001b[0m\u001b[0m\n\u001b[0m\u001b[1;32m    132\u001b[0m     \u001b[0;32melse\u001b[0m\u001b[0;34m:\u001b[0m\u001b[0;34m\u001b[0m\u001b[0;34m\u001b[0m\u001b[0m\n\u001b[1;32m    133\u001b[0m         \u001b[0;31m# Composite any adjacent images together\u001b[0m\u001b[0;34m\u001b[0m\u001b[0;34m\u001b[0m\u001b[0m\n",
            "\u001b[0;32m/usr/local/lib/python3.10/dist-packages/matplotlib/artist.py\u001b[0m in \u001b[0;36mdraw_wrapper\u001b[0;34m(artist, renderer)\u001b[0m\n\u001b[1;32m     70\u001b[0m                 \u001b[0mrenderer\u001b[0m\u001b[0;34m.\u001b[0m\u001b[0mstart_filter\u001b[0m\u001b[0;34m(\u001b[0m\u001b[0;34m)\u001b[0m\u001b[0;34m\u001b[0m\u001b[0;34m\u001b[0m\u001b[0m\n\u001b[1;32m     71\u001b[0m \u001b[0;34m\u001b[0m\u001b[0m\n\u001b[0;32m---> 72\u001b[0;31m             \u001b[0;32mreturn\u001b[0m \u001b[0mdraw\u001b[0m\u001b[0;34m(\u001b[0m\u001b[0martist\u001b[0m\u001b[0;34m,\u001b[0m \u001b[0mrenderer\u001b[0m\u001b[0;34m)\u001b[0m\u001b[0;34m\u001b[0m\u001b[0;34m\u001b[0m\u001b[0m\n\u001b[0m\u001b[1;32m     73\u001b[0m         \u001b[0;32mfinally\u001b[0m\u001b[0;34m:\u001b[0m\u001b[0;34m\u001b[0m\u001b[0;34m\u001b[0m\u001b[0m\n\u001b[1;32m     74\u001b[0m             \u001b[0;32mif\u001b[0m \u001b[0martist\u001b[0m\u001b[0;34m.\u001b[0m\u001b[0mget_agg_filter\u001b[0m\u001b[0;34m(\u001b[0m\u001b[0;34m)\u001b[0m \u001b[0;32mis\u001b[0m \u001b[0;32mnot\u001b[0m \u001b[0;32mNone\u001b[0m\u001b[0;34m:\u001b[0m\u001b[0;34m\u001b[0m\u001b[0;34m\u001b[0m\u001b[0m\n",
            "\u001b[0;32m/usr/local/lib/python3.10/dist-packages/matplotlib/axis.py\u001b[0m in \u001b[0;36mdraw\u001b[0;34m(self, renderer, *args, **kwargs)\u001b[0m\n\u001b[1;32m   1381\u001b[0m \u001b[0;34m\u001b[0m\u001b[0m\n\u001b[1;32m   1382\u001b[0m         \u001b[0;31m# Shift label away from axes to avoid overlapping ticklabels.\u001b[0m\u001b[0;34m\u001b[0m\u001b[0;34m\u001b[0m\u001b[0m\n\u001b[0;32m-> 1383\u001b[0;31m         \u001b[0mself\u001b[0m\u001b[0;34m.\u001b[0m\u001b[0m_update_label_position\u001b[0m\u001b[0;34m(\u001b[0m\u001b[0mrenderer\u001b[0m\u001b[0;34m)\u001b[0m\u001b[0;34m\u001b[0m\u001b[0;34m\u001b[0m\u001b[0m\n\u001b[0m\u001b[1;32m   1384\u001b[0m         \u001b[0mself\u001b[0m\u001b[0;34m.\u001b[0m\u001b[0mlabel\u001b[0m\u001b[0;34m.\u001b[0m\u001b[0mdraw\u001b[0m\u001b[0;34m(\u001b[0m\u001b[0mrenderer\u001b[0m\u001b[0;34m)\u001b[0m\u001b[0;34m\u001b[0m\u001b[0;34m\u001b[0m\u001b[0m\n\u001b[1;32m   1385\u001b[0m \u001b[0;34m\u001b[0m\u001b[0m\n",
            "\u001b[0;32m/usr/local/lib/python3.10/dist-packages/matplotlib/axis.py\u001b[0m in \u001b[0;36m_update_label_position\u001b[0;34m(self, renderer)\u001b[0m\n\u001b[1;32m   2302\u001b[0m         \u001b[0;31m# get bounding boxes for this axis and any siblings\u001b[0m\u001b[0;34m\u001b[0m\u001b[0;34m\u001b[0m\u001b[0m\n\u001b[1;32m   2303\u001b[0m         \u001b[0;31m# that have been set by `fig.align_xlabels()`\u001b[0m\u001b[0;34m\u001b[0m\u001b[0;34m\u001b[0m\u001b[0m\n\u001b[0;32m-> 2304\u001b[0;31m         \u001b[0mbboxes\u001b[0m\u001b[0;34m,\u001b[0m \u001b[0mbboxes2\u001b[0m \u001b[0;34m=\u001b[0m \u001b[0mself\u001b[0m\u001b[0;34m.\u001b[0m\u001b[0m_get_tick_boxes_siblings\u001b[0m\u001b[0;34m(\u001b[0m\u001b[0mrenderer\u001b[0m\u001b[0;34m=\u001b[0m\u001b[0mrenderer\u001b[0m\u001b[0;34m)\u001b[0m\u001b[0;34m\u001b[0m\u001b[0;34m\u001b[0m\u001b[0m\n\u001b[0m\u001b[1;32m   2305\u001b[0m \u001b[0;34m\u001b[0m\u001b[0m\n\u001b[1;32m   2306\u001b[0m         \u001b[0mx\u001b[0m\u001b[0;34m,\u001b[0m \u001b[0my\u001b[0m \u001b[0;34m=\u001b[0m \u001b[0mself\u001b[0m\u001b[0;34m.\u001b[0m\u001b[0mlabel\u001b[0m\u001b[0;34m.\u001b[0m\u001b[0mget_position\u001b[0m\u001b[0;34m(\u001b[0m\u001b[0;34m)\u001b[0m\u001b[0;34m\u001b[0m\u001b[0;34m\u001b[0m\u001b[0m\n",
            "\u001b[0;32m/usr/local/lib/python3.10/dist-packages/matplotlib/axis.py\u001b[0m in \u001b[0;36m_get_tick_boxes_siblings\u001b[0;34m(self, renderer)\u001b[0m\n\u001b[1;32m   2098\u001b[0m             \u001b[0maxis\u001b[0m \u001b[0;34m=\u001b[0m \u001b[0mgetattr\u001b[0m\u001b[0;34m(\u001b[0m\u001b[0max\u001b[0m\u001b[0;34m,\u001b[0m \u001b[0;34mf\"{axis_name}axis\"\u001b[0m\u001b[0;34m)\u001b[0m\u001b[0;34m\u001b[0m\u001b[0;34m\u001b[0m\u001b[0m\n\u001b[1;32m   2099\u001b[0m             \u001b[0mticks_to_draw\u001b[0m \u001b[0;34m=\u001b[0m \u001b[0maxis\u001b[0m\u001b[0;34m.\u001b[0m\u001b[0m_update_ticks\u001b[0m\u001b[0;34m(\u001b[0m\u001b[0;34m)\u001b[0m\u001b[0;34m\u001b[0m\u001b[0;34m\u001b[0m\u001b[0m\n\u001b[0;32m-> 2100\u001b[0;31m             \u001b[0mtlb\u001b[0m\u001b[0;34m,\u001b[0m \u001b[0mtlb2\u001b[0m \u001b[0;34m=\u001b[0m \u001b[0maxis\u001b[0m\u001b[0;34m.\u001b[0m\u001b[0m_get_ticklabel_bboxes\u001b[0m\u001b[0;34m(\u001b[0m\u001b[0mticks_to_draw\u001b[0m\u001b[0;34m,\u001b[0m \u001b[0mrenderer\u001b[0m\u001b[0;34m)\u001b[0m\u001b[0;34m\u001b[0m\u001b[0;34m\u001b[0m\u001b[0m\n\u001b[0m\u001b[1;32m   2101\u001b[0m             \u001b[0mbboxes\u001b[0m\u001b[0;34m.\u001b[0m\u001b[0mextend\u001b[0m\u001b[0;34m(\u001b[0m\u001b[0mtlb\u001b[0m\u001b[0;34m)\u001b[0m\u001b[0;34m\u001b[0m\u001b[0;34m\u001b[0m\u001b[0m\n\u001b[1;32m   2102\u001b[0m             \u001b[0mbboxes2\u001b[0m\u001b[0;34m.\u001b[0m\u001b[0mextend\u001b[0m\u001b[0;34m(\u001b[0m\u001b[0mtlb2\u001b[0m\u001b[0;34m)\u001b[0m\u001b[0;34m\u001b[0m\u001b[0;34m\u001b[0m\u001b[0m\n",
            "\u001b[0;32m/usr/local/lib/python3.10/dist-packages/matplotlib/axis.py\u001b[0m in \u001b[0;36m_get_ticklabel_bboxes\u001b[0;34m(self, ticks, renderer)\u001b[0m\n\u001b[1;32m   1302\u001b[0m         \u001b[0;32mif\u001b[0m \u001b[0mrenderer\u001b[0m \u001b[0;32mis\u001b[0m \u001b[0;32mNone\u001b[0m\u001b[0;34m:\u001b[0m\u001b[0;34m\u001b[0m\u001b[0;34m\u001b[0m\u001b[0m\n\u001b[1;32m   1303\u001b[0m             \u001b[0mrenderer\u001b[0m \u001b[0;34m=\u001b[0m \u001b[0mself\u001b[0m\u001b[0;34m.\u001b[0m\u001b[0mfigure\u001b[0m\u001b[0;34m.\u001b[0m\u001b[0m_get_renderer\u001b[0m\u001b[0;34m(\u001b[0m\u001b[0;34m)\u001b[0m\u001b[0;34m\u001b[0m\u001b[0;34m\u001b[0m\u001b[0m\n\u001b[0;32m-> 1304\u001b[0;31m         return ([tick.label1.get_window_extent(renderer)\n\u001b[0m\u001b[1;32m   1305\u001b[0m                  for tick in ticks if tick.label1.get_visible()],\n\u001b[1;32m   1306\u001b[0m                 [tick.label2.get_window_extent(renderer)\n",
            "\u001b[0;32m/usr/local/lib/python3.10/dist-packages/matplotlib/axis.py\u001b[0m in \u001b[0;36m<listcomp>\u001b[0;34m(.0)\u001b[0m\n\u001b[1;32m   1302\u001b[0m         \u001b[0;32mif\u001b[0m \u001b[0mrenderer\u001b[0m \u001b[0;32mis\u001b[0m \u001b[0;32mNone\u001b[0m\u001b[0;34m:\u001b[0m\u001b[0;34m\u001b[0m\u001b[0;34m\u001b[0m\u001b[0m\n\u001b[1;32m   1303\u001b[0m             \u001b[0mrenderer\u001b[0m \u001b[0;34m=\u001b[0m \u001b[0mself\u001b[0m\u001b[0;34m.\u001b[0m\u001b[0mfigure\u001b[0m\u001b[0;34m.\u001b[0m\u001b[0m_get_renderer\u001b[0m\u001b[0;34m(\u001b[0m\u001b[0;34m)\u001b[0m\u001b[0;34m\u001b[0m\u001b[0;34m\u001b[0m\u001b[0m\n\u001b[0;32m-> 1304\u001b[0;31m         return ([tick.label1.get_window_extent(renderer)\n\u001b[0m\u001b[1;32m   1305\u001b[0m                  for tick in ticks if tick.label1.get_visible()],\n\u001b[1;32m   1306\u001b[0m                 [tick.label2.get_window_extent(renderer)\n",
            "\u001b[0;32m/usr/local/lib/python3.10/dist-packages/matplotlib/text.py\u001b[0m in \u001b[0;36mget_window_extent\u001b[0;34m(self, renderer, dpi)\u001b[0m\n\u001b[1;32m    957\u001b[0m \u001b[0;34m\u001b[0m\u001b[0m\n\u001b[1;32m    958\u001b[0m         \u001b[0;32mwith\u001b[0m \u001b[0mcbook\u001b[0m\u001b[0;34m.\u001b[0m\u001b[0m_setattr_cm\u001b[0m\u001b[0;34m(\u001b[0m\u001b[0mself\u001b[0m\u001b[0;34m.\u001b[0m\u001b[0mfigure\u001b[0m\u001b[0;34m,\u001b[0m \u001b[0mdpi\u001b[0m\u001b[0;34m=\u001b[0m\u001b[0mdpi\u001b[0m\u001b[0;34m)\u001b[0m\u001b[0;34m:\u001b[0m\u001b[0;34m\u001b[0m\u001b[0;34m\u001b[0m\u001b[0m\n\u001b[0;32m--> 959\u001b[0;31m             \u001b[0mbbox\u001b[0m\u001b[0;34m,\u001b[0m \u001b[0minfo\u001b[0m\u001b[0;34m,\u001b[0m \u001b[0mdescent\u001b[0m \u001b[0;34m=\u001b[0m \u001b[0mself\u001b[0m\u001b[0;34m.\u001b[0m\u001b[0m_get_layout\u001b[0m\u001b[0;34m(\u001b[0m\u001b[0mself\u001b[0m\u001b[0;34m.\u001b[0m\u001b[0m_renderer\u001b[0m\u001b[0;34m)\u001b[0m\u001b[0;34m\u001b[0m\u001b[0;34m\u001b[0m\u001b[0m\n\u001b[0m\u001b[1;32m    960\u001b[0m             \u001b[0mx\u001b[0m\u001b[0;34m,\u001b[0m \u001b[0my\u001b[0m \u001b[0;34m=\u001b[0m \u001b[0mself\u001b[0m\u001b[0;34m.\u001b[0m\u001b[0mget_unitless_position\u001b[0m\u001b[0;34m(\u001b[0m\u001b[0;34m)\u001b[0m\u001b[0;34m\u001b[0m\u001b[0;34m\u001b[0m\u001b[0m\n\u001b[1;32m    961\u001b[0m             \u001b[0mx\u001b[0m\u001b[0;34m,\u001b[0m \u001b[0my\u001b[0m \u001b[0;34m=\u001b[0m \u001b[0mself\u001b[0m\u001b[0;34m.\u001b[0m\u001b[0mget_transform\u001b[0m\u001b[0;34m(\u001b[0m\u001b[0;34m)\u001b[0m\u001b[0;34m.\u001b[0m\u001b[0mtransform\u001b[0m\u001b[0;34m(\u001b[0m\u001b[0;34m(\u001b[0m\u001b[0mx\u001b[0m\u001b[0;34m,\u001b[0m \u001b[0my\u001b[0m\u001b[0;34m)\u001b[0m\u001b[0;34m)\u001b[0m\u001b[0;34m\u001b[0m\u001b[0;34m\u001b[0m\u001b[0m\n",
            "\u001b[0;32m/usr/local/lib/python3.10/dist-packages/matplotlib/text.py\u001b[0m in \u001b[0;36m_get_layout\u001b[0;34m(self, renderer)\u001b[0m\n\u001b[1;32m    445\u001b[0m         \u001b[0mcorners_rotated\u001b[0m \u001b[0;34m=\u001b[0m \u001b[0mM\u001b[0m\u001b[0;34m.\u001b[0m\u001b[0mtransform\u001b[0m\u001b[0;34m(\u001b[0m\u001b[0mcorners_horiz\u001b[0m\u001b[0;34m)\u001b[0m\u001b[0;34m\u001b[0m\u001b[0;34m\u001b[0m\u001b[0m\n\u001b[1;32m    446\u001b[0m         \u001b[0;31m# compute the bounds of the rotated box\u001b[0m\u001b[0;34m\u001b[0m\u001b[0;34m\u001b[0m\u001b[0m\n\u001b[0;32m--> 447\u001b[0;31m         \u001b[0mxmin\u001b[0m \u001b[0;34m=\u001b[0m \u001b[0mcorners_rotated\u001b[0m\u001b[0;34m[\u001b[0m\u001b[0;34m:\u001b[0m\u001b[0;34m,\u001b[0m \u001b[0;36m0\u001b[0m\u001b[0;34m]\u001b[0m\u001b[0;34m.\u001b[0m\u001b[0mmin\u001b[0m\u001b[0;34m(\u001b[0m\u001b[0;34m)\u001b[0m\u001b[0;34m\u001b[0m\u001b[0;34m\u001b[0m\u001b[0m\n\u001b[0m\u001b[1;32m    448\u001b[0m         \u001b[0mxmax\u001b[0m \u001b[0;34m=\u001b[0m \u001b[0mcorners_rotated\u001b[0m\u001b[0;34m[\u001b[0m\u001b[0;34m:\u001b[0m\u001b[0;34m,\u001b[0m \u001b[0;36m0\u001b[0m\u001b[0;34m]\u001b[0m\u001b[0;34m.\u001b[0m\u001b[0mmax\u001b[0m\u001b[0;34m(\u001b[0m\u001b[0;34m)\u001b[0m\u001b[0;34m\u001b[0m\u001b[0;34m\u001b[0m\u001b[0m\n\u001b[1;32m    449\u001b[0m         \u001b[0mymin\u001b[0m \u001b[0;34m=\u001b[0m \u001b[0mcorners_rotated\u001b[0m\u001b[0;34m[\u001b[0m\u001b[0;34m:\u001b[0m\u001b[0;34m,\u001b[0m \u001b[0;36m1\u001b[0m\u001b[0;34m]\u001b[0m\u001b[0;34m.\u001b[0m\u001b[0mmin\u001b[0m\u001b[0;34m(\u001b[0m\u001b[0;34m)\u001b[0m\u001b[0;34m\u001b[0m\u001b[0;34m\u001b[0m\u001b[0m\n",
            "\u001b[0;32m/usr/local/lib/python3.10/dist-packages/numpy/core/_methods.py\u001b[0m in \u001b[0;36m_amin\u001b[0;34m(a, axis, out, keepdims, initial, where)\u001b[0m\n\u001b[1;32m     42\u001b[0m def _amin(a, axis=None, out=None, keepdims=False,\n\u001b[1;32m     43\u001b[0m           initial=_NoValue, where=True):\n\u001b[0;32m---> 44\u001b[0;31m     \u001b[0;32mreturn\u001b[0m \u001b[0mumr_minimum\u001b[0m\u001b[0;34m(\u001b[0m\u001b[0ma\u001b[0m\u001b[0;34m,\u001b[0m \u001b[0maxis\u001b[0m\u001b[0;34m,\u001b[0m \u001b[0;32mNone\u001b[0m\u001b[0;34m,\u001b[0m \u001b[0mout\u001b[0m\u001b[0;34m,\u001b[0m \u001b[0mkeepdims\u001b[0m\u001b[0;34m,\u001b[0m \u001b[0minitial\u001b[0m\u001b[0;34m,\u001b[0m \u001b[0mwhere\u001b[0m\u001b[0;34m)\u001b[0m\u001b[0;34m\u001b[0m\u001b[0;34m\u001b[0m\u001b[0m\n\u001b[0m\u001b[1;32m     45\u001b[0m \u001b[0;34m\u001b[0m\u001b[0m\n\u001b[1;32m     46\u001b[0m def _sum(a, axis=None, dtype=None, out=None, keepdims=False,\n",
            "\u001b[0;31mKeyboardInterrupt\u001b[0m: "
          ]
        }
      ]
    },
    {
      "cell_type": "code",
      "source": [
        "#Classic block emitter\n",
        "\n",
        "#detector\n",
        "d=Detector(\n",
        "    width=width,\n",
        "    speed_of_signal=speed_of_signal,\n",
        "    position=np.array([width*0.4,width*0.3]),\n",
        "    theta=np.pi*0.4,\n",
        "    n_elements=1,\n",
        "    element_offset=wavelength/2,\n",
        "    sampling_frequency=(speed_of_signal/wavelength)*12 # 20 samples per wavelength,\n",
        ")\n",
        "#emitter\n",
        "emitters=[ Emitter(\n",
        "    position=np.array([[width*0.8,width*0.4]]),\n",
        "    signal_at_time_t=partial(\n",
        "        block_signal_at_time_t,\n",
        "        np.array([1,-1,1,0,0,0,0,0,0]),\n",
        "        wavelength/speed_of_signal,\n",
        "    )\n",
        ") ]\n",
        "\n",
        "#plotting parameters\n",
        "time_steps=100\n",
        "time_per_step=(1/d.sampling_frequency)\n",
        "\n",
        "png_filenames=[]\n",
        "#plt.ion()\n",
        "plt.ioff()\n",
        "for t in np.arange(time_steps)*time_per_step:\n",
        "  fig=plt.figure(figsize=(10,5))\n",
        "  gs = fig.add_gridspec(d.n_elements,2)\n",
        "  scene_ax = fig.add_subplot(gs[:, 0])\n",
        "  detector_element_axs=[fig.add_subplot(gs[0, 1])]\n",
        "  for idx in range(1,d.n_elements):\n",
        "    detector_element_axs.append(\n",
        "      fig.add_subplot(gs[idx, 1],\n",
        "                      sharex=detector_element_axs[0],\n",
        "                      sharey=detector_element_axs[0]))\n",
        "  draw_scene(d,emitters,t,scene_ax,max_t=time_steps*time_per_step,\n",
        "             detector_label='our friend',\n",
        "             emitter_label='our emission device')\n",
        "  draw_sampling(d,emitters,t,detector_element_axs,max_t=time_steps*time_per_step,\n",
        "                title='What our friend hears and when')\n",
        "  fn='out_%0.3f.png' % t\n",
        "  fig.tight_layout()\n",
        "  fig.savefig(fn)\n",
        "  png_filenames.append(fn)\n",
        "filenames_to_gif(png_filenames,\n",
        "                  'block_emitter_sf%0.3f.gif' % (d.sampling_frequency),\n",
        "                  ms_per_frame=150)\n",
        "plt.ion()\n"
      ],
      "metadata": {
        "id": "hoZg2uN74Esy",
        "colab": {
          "base_uri": "https://localhost:8080/"
        },
        "outputId": "087eddee-c96a-491a-f8a1-9df8f775eb8f"
      },
      "execution_count": 12,
      "outputs": [
        {
          "output_type": "execute_result",
          "data": {
            "text/plain": [
              "<contextlib.ExitStack at 0x7f383c682590>"
            ]
          },
          "metadata": {},
          "execution_count": 12
        }
      ]
    },
    {
      "cell_type": "code",
      "source": [
        "#Classic sin emitter\n",
        "\n",
        "#detector\n",
        "d=Detector(\n",
        "    width=width,\n",
        "    speed_of_signal=speed_of_signal,\n",
        "    position=np.array([width*0.4,width*0.3]),\n",
        "    theta=np.pi*0.4,\n",
        "    n_elements=1,\n",
        "    element_offset=wavelength/2,\n",
        "    sampling_frequency=(speed_of_signal/wavelength)*12 # 20 samples per wavelength,\n",
        ")\n",
        "#emitter\n",
        "emitters=[ Emitter(\n",
        "    position=np.array([[width*0.8,width*0.4]]),\n",
        "    signal_at_time_t=partial(\n",
        "        sin_signal_at_time_t,\n",
        "        speed_of_signal/wavelength,\n",
        "        0,\n",
        "    )\n",
        ") ]\n",
        "\n",
        "#plotting parameters\n",
        "time_steps=70\n",
        "time_per_step=(1/d.sampling_frequency)\n",
        "\n",
        "png_filenames=[]\n",
        "#plt.ion()\n",
        "plt.ioff()\n",
        "for t in np.arange(time_steps)*time_per_step:\n",
        "  fig=plt.figure(figsize=(10,5))\n",
        "  gs = fig.add_gridspec(d.n_elements,2)\n",
        "  scene_ax = fig.add_subplot(gs[:, 0])\n",
        "  detector_element_axs=[fig.add_subplot(gs[0, 1])]\n",
        "  for idx in range(1,d.n_elements):\n",
        "    detector_element_axs.append(\n",
        "      fig.add_subplot(gs[idx, 1],\n",
        "                      sharex=detector_element_axs[0],\n",
        "                      sharey=detector_element_axs[0]))\n",
        "  draw_scene(d,emitters,t,scene_ax,max_t=time_steps*time_per_step,\n",
        "             detector_label='our friend',\n",
        "             emitter_label='our emission device')\n",
        "  draw_sampling(d,emitters,t,detector_element_axs,max_t=time_steps*time_per_step,\n",
        "                title='What our friend hears and when')\n",
        "  fn='out_%0.3f.png' % t\n",
        "  fig.tight_layout()\n",
        "  fig.savefig(fn)\n",
        "  png_filenames.append(fn)\n",
        "filenames_to_gif(png_filenames,\n",
        "                  'full_sin_emitter_sf%0.3f.gif' % (d.sampling_frequency),\n",
        "                  ms_per_frame=150)\n",
        "plt.ion()"
      ],
      "metadata": {
        "colab": {
          "base_uri": "https://localhost:8080/"
        },
        "id": "5LMGpoNpAM2T",
        "outputId": "e4735803-4a3c-454f-d592-55c6f6454473"
      },
      "execution_count": 16,
      "outputs": [
        {
          "output_type": "execute_result",
          "data": {
            "text/plain": [
              "<contextlib.ExitStack at 0x7f3816cd1c90>"
            ]
          },
          "metadata": {},
          "execution_count": 16
        }
      ]
    },
    {
      "cell_type": "code",
      "source": [
        "#Classic block sin emitter\n",
        "\n",
        "#detector\n",
        "d=Detector(\n",
        "    width=width,\n",
        "    speed_of_signal=speed_of_signal,\n",
        "    position=np.array([width*0.4,width*0.3]),\n",
        "    theta=np.pi*0.4,\n",
        "    n_elements=1,\n",
        "    element_offset=wavelength/2,\n",
        "    sampling_frequency=(speed_of_signal/wavelength)*12 # 20 samples per wavelength,\n",
        ")\n",
        "#emitter\n",
        "emitters=[ Emitter(\n",
        "    position=np.array([[width*0.8,width*0.4]]),\n",
        "    signal_at_time_t=partial(\n",
        "        sin_signal_am_at_time_t,\n",
        "        speed_of_signal/wavelength,\n",
        "        0,\n",
        "        np.array([1,0.5,1,0,0])\n",
        "    )\n",
        ") ]\n",
        "\n",
        "#plotting parameters\n",
        "time_steps=120\n",
        "time_per_step=(1/d.sampling_frequency)\n",
        "\n",
        "png_filenames=[]\n",
        "#plt.ion()\n",
        "plt.ioff()\n",
        "for t in np.arange(time_steps)*time_per_step:\n",
        "  fig=plt.figure(figsize=(10,5))\n",
        "  gs = fig.add_gridspec(d.n_elements,2)\n",
        "  scene_ax = fig.add_subplot(gs[:, 0])\n",
        "  detector_element_axs=[fig.add_subplot(gs[0, 1])]\n",
        "  for idx in range(1,d.n_elements):\n",
        "    detector_element_axs.append(\n",
        "      fig.add_subplot(gs[idx, 1],\n",
        "                      sharex=detector_element_axs[0],\n",
        "                      sharey=detector_element_axs[0]))\n",
        "  draw_scene(d,emitters,t,scene_ax,max_t=time_steps*time_per_step,\n",
        "             detector_label='our friend',\n",
        "             emitter_label='our emission device')\n",
        "  draw_sampling(d,emitters,t,detector_element_axs,max_t=time_steps*time_per_step,\n",
        "                title='What our friend hears and when')\n",
        "  fn='out_%0.3f.png' % t\n",
        "  fig.tight_layout()\n",
        "  fig.savefig(fn)\n",
        "  png_filenames.append(fn)\n",
        "filenames_to_gif(png_filenames,\n",
        "                  'block_sin_emitter_sf%0.3f.gif' % (d.sampling_frequency),\n",
        "                  ms_per_frame=150)\n",
        "plt.ion()\n"
      ],
      "metadata": {
        "colab": {
          "base_uri": "https://localhost:8080/"
        },
        "id": "NNLb7sdS-csy",
        "outputId": "12f9db51-dd76-4448-9d29-8042780f3466"
      },
      "execution_count": 17,
      "outputs": [
        {
          "output_type": "execute_result",
          "data": {
            "text/plain": [
              "<contextlib.ExitStack at 0x7f381aea2bc0>"
            ]
          },
          "metadata": {},
          "execution_count": 17
        }
      ]
    },
    {
      "cell_type": "code",
      "source": [
        "#Classic block sin emitter\n",
        "\n",
        "#detector\n",
        "d=Detector(\n",
        "    width=width,\n",
        "    speed_of_signal=speed_of_signal,\n",
        "    position=np.array([width*0.4,width*0.3]),\n",
        "    theta=np.pi*0.4,\n",
        "    n_elements=2,\n",
        "    element_offset=wavelength/2,\n",
        "    sampling_frequency=(speed_of_signal/wavelength)*12 # 20 samples per wavelength,\n",
        ")\n",
        "#emitter\n",
        "emitters=[ Emitter(\n",
        "    position=np.array([[width*0.8,width*0.4]]),\n",
        "    signal_at_time_t=partial(\n",
        "        sin_signal_am_at_time_t,\n",
        "        speed_of_signal/wavelength,\n",
        "        0,\n",
        "        np.array([1,0,1,0,0,0,0])\n",
        "    )\n",
        ") ]\n",
        "\n",
        "#plotting parameters\n",
        "time_steps=120\n",
        "time_per_step=(1/d.sampling_frequency)\n",
        "\n",
        "png_filenames=[]\n",
        "#plt.ion()\n",
        "plt.ioff()\n",
        "for t in np.arange(time_steps)*time_per_step:\n",
        "  fig=plt.figure(figsize=(10,5))\n",
        "  gs = fig.add_gridspec(d.n_elements,2)\n",
        "  scene_ax = fig.add_subplot(gs[:, 0])\n",
        "  detector_element_axs=[fig.add_subplot(gs[0, 1])]\n",
        "  for idx in range(1,d.n_elements):\n",
        "    detector_element_axs.append(\n",
        "      fig.add_subplot(gs[idx, 1],\n",
        "                      sharex=detector_element_axs[0],\n",
        "                      sharey=detector_element_axs[0]))\n",
        "  draw_scene(d,emitters,t,scene_ax,max_t=time_steps*time_per_step)\n",
        "  draw_sampling(d,emitters,t,detector_element_axs,max_t=time_steps*time_per_step)\n",
        "  fn='out_%0.3f.png' % t\n",
        "  fig.tight_layout()\n",
        "  fig.savefig(fn) #,pil_kwargs={'palette':PIL.ImagePalette.ImagePalette(mode='RGBA')})\n",
        "  png_filenames.append(fn)\n",
        "filenames_to_gif(png_filenames,\n",
        "                  'simple_sin_sf%0.3f.gif' % (d.sampling_frequency),\n",
        "                  ms_per_frame=150)\n",
        "plt.ion()\n"
      ],
      "metadata": {
        "colab": {
          "base_uri": "https://localhost:8080/"
        },
        "id": "RiyTpW1e25HT",
        "outputId": "81688ae4-2d9f-449e-f0ce-3bd40add634f"
      },
      "execution_count": 101,
      "outputs": [
        {
          "output_type": "execute_result",
          "data": {
            "text/plain": [
              "<contextlib.ExitStack at 0x7fd69d9e2c50>"
            ]
          },
          "metadata": {},
          "execution_count": 101
        }
      ]
    },
    {
      "cell_type": "code",
      "source": [
        "\n",
        "from scipy.signal import correlate\n",
        "\n",
        "def cross_correlation(detector,emitters,t,ax,max_time_steps,y_max=10):  \n",
        "  sampling_n=int(t*d.sampling_frequency)+1 # number of samplings\n",
        "  if sampling_n==0:\n",
        "    return\n",
        "  sampling_times=np.arange(sampling_n)*(1/d.sampling_frequency)\n",
        "  signal_matrix=[]\n",
        "  time_delay_to_element=[]\n",
        "  for detector_element_idx,detector_element_pos in enumerate(detector.element_positions):\n",
        "    time_delay_to_element.append(np.linalg.norm(\n",
        "              emitters[0].position-detector_element_pos)/d.speed_of_signal)\n",
        "    z=sampling_times-time_delay_to_element[-1]\n",
        "    signal_matrix.append(np.vstack(\n",
        "      [ e.signal_at_time_t(\n",
        "          sampling_times-np.linalg.norm(\n",
        "              e.position-detector_element_pos)/d.speed_of_signal)[None] for e in emitters ] ).sum(axis=0)[None])\n",
        "  signal_matrix=np.vstack(signal_matrix)\n",
        "  cross_correlation=correlate(\n",
        "      signal_matrix[0],\n",
        "      signal_matrix[1],mode='same')\n",
        "  delay_arr = np.linspace(-0.5*len(signal_matrix[0])/d.sampling_frequency,\n",
        "                          0.5*len(signal_matrix[0])/d.sampling_frequency,\n",
        "                          len(signal_matrix[0]))\n",
        "  best_delay=delay_arr[np.argmax(cross_correlation)]\n",
        "  if signal_matrix.sum(axis=1).min()!=0.0:\n",
        "    ax.axvline(x=best_delay,label='estimated delay=%0.3f' % best_delay,c='orange')\n",
        "    true_delay=time_delay_to_element[0]-time_delay_to_element[1]\n",
        "    ax.axvline(x=true_delay,c='r',label='true delay=%0.3f' % true_delay)\n",
        "    ax.plot(delay_arr,cross_correlation)\n",
        "    ax.legend()\n",
        "  ax.set_ylim([-y_max,y_max])\n",
        "  ax.set_xlim([-max_time_steps/(2*d.sampling_frequency),max_time_steps/(2*d.sampling_frequency)])\n",
        "  ax.set_ylabel(\"Cross-correlation\")\n",
        "  ax.set_xlabel(\"Signal time offset\")\n",
        "  ax.set_title(\"TDOA estimate time offset\")\n",
        "#fig=plt.figure()\n",
        "#ax=fig.subplots(1,1)\n",
        "#cross_correlation(d,emitters,(time_steps-20)*time_per_step,ax)"
      ],
      "metadata": {
        "id": "jr2ny6VGNAgb"
      },
      "execution_count": 169,
      "outputs": []
    },
    {
      "cell_type": "code",
      "source": [
        "#More complex wave\n",
        "\n",
        "#detector\n",
        "d=Detector(\n",
        "    width=width,\n",
        "    speed_of_signal=speed_of_signal*0.5,\n",
        "    position=np.array([width*0.4,width*0.3]),\n",
        "    theta=np.pi*0.4,\n",
        "    n_elements=2,\n",
        "    element_offset=wavelength/2,\n",
        "    sampling_frequency=(speed_of_signal/wavelength)*12 # 20 samples per wavelength,\n",
        ")\n",
        "#emitter\n",
        "emitters=[ Emitter(\n",
        "    position=np.array([[width*0.8,width*0.4]]),\n",
        "    signal_at_time_t=\n",
        "    lambda t : np.vstack([ # linear combo of three waves\n",
        "      sin_signal_am_at_time_t(\n",
        "          speed_of_signal/wavelength,\n",
        "          0,\n",
        "          0.0*np.array([0.3,0.3,0.3]),t\n",
        "      )[None],\n",
        "      sin_signal_am_at_time_t(\n",
        "          speed_of_signal*2/(wavelength),\n",
        "          np.pi*0.3,\n",
        "          np.array([0.3,0.3,0.3]),t\n",
        "      )[None],\n",
        "      sin_signal_am_at_time_t(\n",
        "          speed_of_signal/(5*wavelength),\n",
        "          np.pi*0.6,\n",
        "          np.array([0.4,0.4,.4]),t,\n",
        "      )[None],\n",
        "    ]).sum(axis=0)\n",
        ") ]\n",
        "\n",
        "#plotting parameters\n",
        "time_steps=120\n",
        "time_per_step=(1/d.sampling_frequency)\n",
        "\n",
        "png_filenames=[]\n",
        "#plt.ion()\n",
        "plt.ioff()\n",
        "for t in np.arange(time_steps)*time_per_step:\n",
        "  fig=plt.figure(figsize=(15,5))\n",
        "  gs = fig.add_gridspec(d.n_elements,3)\n",
        "  scene_ax = fig.add_subplot(gs[:, 0])\n",
        "  cross_correlation_ax = fig.add_subplot(gs[:, 2])\n",
        "  cross_correlation(d,emitters,t,cross_correlation_ax,time_steps)\n",
        "  detector_element_axs=[fig.add_subplot(gs[0, 1])]\n",
        "  for idx in range(1,d.n_elements):\n",
        "    detector_element_axs.append(\n",
        "      fig.add_subplot(gs[idx, 1],\n",
        "                      sharex=detector_element_axs[0],\n",
        "                      sharey=detector_element_axs[0]))\n",
        "  draw_scene(d,emitters,t,scene_ax,max_t=time_steps*time_per_step)\n",
        "  draw_sampling(d,emitters,t,detector_element_axs,max_t=time_steps*time_per_step,\n",
        "                )\n",
        "  fn='out_%0.3f.png' % t\n",
        "  fig.tight_layout()\n",
        "  fig.savefig(fn)\n",
        "  png_filenames.append(fn)\n",
        "filenames_to_gif(png_filenames,\n",
        "                  'tdoa_emitter_sf%0.3f.gif' % (d.sampling_frequency),\n",
        "                  ms_per_frame=150,resize=(1800,600))\n",
        "plt.ion()\n"
      ],
      "metadata": {
        "id": "tocqtkwK8ZCI",
        "colab": {
          "base_uri": "https://localhost:8080/"
        },
        "outputId": "229c5119-aad3-446d-f5cf-9b6a62a45b37"
      },
      "execution_count": 170,
      "outputs": [
        {
          "output_type": "execute_result",
          "data": {
            "text/plain": [
              "<contextlib.ExitStack at 0x7f38223db970>"
            ]
          },
          "metadata": {},
          "execution_count": 170
        }
      ]
    },
    {
      "cell_type": "code",
      "source": [
        "!rm *.png"
      ],
      "metadata": {
        "id": "sUwLp-Ud-DDZ"
      },
      "execution_count": 132,
      "outputs": []
    },
    {
      "cell_type": "code",
      "source": [
        "filenames_to_gif(png_filenames,\n",
        "                  'tdoa_emitter_sf%0.3f.gif' % (d.sampling_frequency),\n",
        "                  ms_per_frame=150,resize=(1800,600))"
      ],
      "metadata": {
        "id": "kKrh_4HV_2Nf"
      },
      "execution_count": 165,
      "outputs": []
    },
    {
      "cell_type": "code",
      "source": [],
      "metadata": {
        "id": "2hmp20fQNRAK"
      },
      "execution_count": null,
      "outputs": []
    }
  ]
}